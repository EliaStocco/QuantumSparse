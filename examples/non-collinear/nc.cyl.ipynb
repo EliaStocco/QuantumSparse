{
 "cells": [
  {
   "cell_type": "markdown",
   "metadata": {},
   "source": [
    "# Non collinear calculations"
   ]
  },
  {
   "cell_type": "markdown",
   "metadata": {},
   "source": [
    "## Packages"
   ]
  },
  {
   "cell_type": "code",
   "execution_count": 1,
   "metadata": {},
   "outputs": [],
   "source": [
    "from quantumsparse.spin import SpinOperators\n",
    "from quantumsparse.operator import Symmetry, Operator\n",
    "from quantumsparse.spin.shift import shift\n",
    "from quantumsparse.spin import Heisenberg\n",
    "from quantumsparse.spin.functions import rotate_spins, get_unitary_rotation_matrix\n",
    "from quantumsparse.tools.mathematics import product, roots_of_unity\n",
    "import numpy as np\n",
    "import os\n",
    "import matplotlib.pyplot as plt\n",
    "plt.style.use('../../notebook.mplstyle')                # use matplotlib style notebook.mplstyle\n",
    "\n",
    "DEBUG = False\n",
    "TOLERANCE = 1e-10\n",
    "NEED_EIGENVECTORS = True"
   ]
  },
  {
   "cell_type": "markdown",
   "metadata": {},
   "source": [
    "## Parameters"
   ]
  },
  {
   "cell_type": "markdown",
   "metadata": {},
   "source": [
    "Let's define the main parameters of the system: the spin value `S` and the number of sites `Nsites`."
   ]
  },
  {
   "cell_type": "code",
   "execution_count": 2,
   "metadata": {},
   "outputs": [],
   "source": [
    "name = \"Cr8\"\n",
    "xc = \"LDA+U\"\n",
    "all_Js = {\n",
    "    \"Cr8\" : {\n",
    "        \"LDA+U\"   : [0.596,0.596,0.843], # eV\n",
    "        \"LDA+U+V\" : [0.848,0.848,1.198], # eV\n",
    "    },\n",
    "    \"V8\"  : {\n",
    "        \"LDA+U\"   : [-0.643,-0.654,-0.913], # eV\n",
    "        \"LDA+U+V\" : [-0.403,-0.403,-0.585], # eV\n",
    "    }\n",
    "}\n",
    "\n",
    "S     = 3./2 # spin value\n",
    "Nsites = 8 # number of sites\n",
    "spin_values = np.full(Nsites,S)"
   ]
  },
  {
   "cell_type": "markdown",
   "metadata": {},
   "source": [
    "## Spin operators"
   ]
  },
  {
   "cell_type": "markdown",
   "metadata": {},
   "source": [
    "From these values we can construct the spin operators `Sx`, `Sy`, and `Sz` of the system (in cartesian coordinates)."
   ]
  },
  {
   "cell_type": "code",
   "execution_count": 3,
   "metadata": {},
   "outputs": [],
   "source": [
    "# construct the spin operators\n",
    "SpinOp = SpinOperators(spin_values)\n",
    "\n",
    "# unpack the operators\n",
    "spins = SpinOp.Sx,SpinOp.Sy,SpinOp.Sz\n",
    "Sx,Sy,Sz = spins"
   ]
  },
  {
   "cell_type": "code",
   "execution_count": 4,
   "metadata": {},
   "outputs": [
    {
     "data": {
      "text/html": [
       "<div>\n",
       "<style scoped>\n",
       "    .dataframe tbody tr th:only-of-type {\n",
       "        vertical-align: middle;\n",
       "    }\n",
       "\n",
       "    .dataframe tbody tr th {\n",
       "        vertical-align: top;\n",
       "    }\n",
       "\n",
       "    .dataframe thead th {\n",
       "        text-align: right;\n",
       "    }\n",
       "</style>\n",
       "<table border=\"1\" class=\"dataframe\">\n",
       "  <thead>\n",
       "    <tr style=\"text-align: right;\">\n",
       "      <th></th>\n",
       "      <th>0</th>\n",
       "      <th>1</th>\n",
       "      <th>2</th>\n",
       "      <th>3</th>\n",
       "      <th>4</th>\n",
       "      <th>5</th>\n",
       "      <th>6</th>\n",
       "      <th>7</th>\n",
       "    </tr>\n",
       "  </thead>\n",
       "  <tbody>\n",
       "    <tr>\n",
       "      <th>0</th>\n",
       "      <td>1.5</td>\n",
       "      <td>1.5</td>\n",
       "      <td>1.5</td>\n",
       "      <td>1.5</td>\n",
       "      <td>1.5</td>\n",
       "      <td>1.5</td>\n",
       "      <td>1.5</td>\n",
       "      <td>1.5</td>\n",
       "    </tr>\n",
       "    <tr>\n",
       "      <th>1</th>\n",
       "      <td>1.5</td>\n",
       "      <td>1.5</td>\n",
       "      <td>1.5</td>\n",
       "      <td>1.5</td>\n",
       "      <td>1.5</td>\n",
       "      <td>1.5</td>\n",
       "      <td>1.5</td>\n",
       "      <td>0.5</td>\n",
       "    </tr>\n",
       "    <tr>\n",
       "      <th>2</th>\n",
       "      <td>1.5</td>\n",
       "      <td>1.5</td>\n",
       "      <td>1.5</td>\n",
       "      <td>1.5</td>\n",
       "      <td>1.5</td>\n",
       "      <td>1.5</td>\n",
       "      <td>1.5</td>\n",
       "      <td>-0.5</td>\n",
       "    </tr>\n",
       "    <tr>\n",
       "      <th>3</th>\n",
       "      <td>1.5</td>\n",
       "      <td>1.5</td>\n",
       "      <td>1.5</td>\n",
       "      <td>1.5</td>\n",
       "      <td>1.5</td>\n",
       "      <td>1.5</td>\n",
       "      <td>1.5</td>\n",
       "      <td>-1.5</td>\n",
       "    </tr>\n",
       "    <tr>\n",
       "      <th>4</th>\n",
       "      <td>1.5</td>\n",
       "      <td>1.5</td>\n",
       "      <td>1.5</td>\n",
       "      <td>1.5</td>\n",
       "      <td>1.5</td>\n",
       "      <td>1.5</td>\n",
       "      <td>0.5</td>\n",
       "      <td>1.5</td>\n",
       "    </tr>\n",
       "    <tr>\n",
       "      <th>...</th>\n",
       "      <td>...</td>\n",
       "      <td>...</td>\n",
       "      <td>...</td>\n",
       "      <td>...</td>\n",
       "      <td>...</td>\n",
       "      <td>...</td>\n",
       "      <td>...</td>\n",
       "      <td>...</td>\n",
       "    </tr>\n",
       "    <tr>\n",
       "      <th>65531</th>\n",
       "      <td>-1.5</td>\n",
       "      <td>-1.5</td>\n",
       "      <td>-1.5</td>\n",
       "      <td>-1.5</td>\n",
       "      <td>-1.5</td>\n",
       "      <td>-1.5</td>\n",
       "      <td>-0.5</td>\n",
       "      <td>-1.5</td>\n",
       "    </tr>\n",
       "    <tr>\n",
       "      <th>65532</th>\n",
       "      <td>-1.5</td>\n",
       "      <td>-1.5</td>\n",
       "      <td>-1.5</td>\n",
       "      <td>-1.5</td>\n",
       "      <td>-1.5</td>\n",
       "      <td>-1.5</td>\n",
       "      <td>-1.5</td>\n",
       "      <td>1.5</td>\n",
       "    </tr>\n",
       "    <tr>\n",
       "      <th>65533</th>\n",
       "      <td>-1.5</td>\n",
       "      <td>-1.5</td>\n",
       "      <td>-1.5</td>\n",
       "      <td>-1.5</td>\n",
       "      <td>-1.5</td>\n",
       "      <td>-1.5</td>\n",
       "      <td>-1.5</td>\n",
       "      <td>0.5</td>\n",
       "    </tr>\n",
       "    <tr>\n",
       "      <th>65534</th>\n",
       "      <td>-1.5</td>\n",
       "      <td>-1.5</td>\n",
       "      <td>-1.5</td>\n",
       "      <td>-1.5</td>\n",
       "      <td>-1.5</td>\n",
       "      <td>-1.5</td>\n",
       "      <td>-1.5</td>\n",
       "      <td>-0.5</td>\n",
       "    </tr>\n",
       "    <tr>\n",
       "      <th>65535</th>\n",
       "      <td>-1.5</td>\n",
       "      <td>-1.5</td>\n",
       "      <td>-1.5</td>\n",
       "      <td>-1.5</td>\n",
       "      <td>-1.5</td>\n",
       "      <td>-1.5</td>\n",
       "      <td>-1.5</td>\n",
       "      <td>-1.5</td>\n",
       "    </tr>\n",
       "  </tbody>\n",
       "</table>\n",
       "<p>65536 rows × 8 columns</p>\n",
       "</div>"
      ],
      "text/plain": [
       "         0    1    2    3    4    5    6    7\n",
       "0      1.5  1.5  1.5  1.5  1.5  1.5  1.5  1.5\n",
       "1      1.5  1.5  1.5  1.5  1.5  1.5  1.5  0.5\n",
       "2      1.5  1.5  1.5  1.5  1.5  1.5  1.5 -0.5\n",
       "3      1.5  1.5  1.5  1.5  1.5  1.5  1.5 -1.5\n",
       "4      1.5  1.5  1.5  1.5  1.5  1.5  0.5  1.5\n",
       "...    ...  ...  ...  ...  ...  ...  ...  ...\n",
       "65531 -1.5 -1.5 -1.5 -1.5 -1.5 -1.5 -0.5 -1.5\n",
       "65532 -1.5 -1.5 -1.5 -1.5 -1.5 -1.5 -1.5  1.5\n",
       "65533 -1.5 -1.5 -1.5 -1.5 -1.5 -1.5 -1.5  0.5\n",
       "65534 -1.5 -1.5 -1.5 -1.5 -1.5 -1.5 -1.5 -0.5\n",
       "65535 -1.5 -1.5 -1.5 -1.5 -1.5 -1.5 -1.5 -1.5\n",
       "\n",
       "[65536 rows x 8 columns]"
      ]
     },
     "execution_count": 4,
     "metadata": {},
     "output_type": "execute_result"
    }
   ],
   "source": [
    "# let's show the Hilbert space basis:\n",
    "# each row is a basis state\n",
    "# each column if one component in the Sz-basis\n",
    "SpinOp.basis"
   ]
  },
  {
   "cell_type": "markdown",
   "metadata": {},
   "source": [
    "Pay attention that `Sx` (as well as `Sy`, and `Sz`) are `numpy.array` with lenght `Nsites`, and each one of its element is a `Operator` object.\n",
    "\n",
    "Let's inspect one element."
   ]
  },
  {
   "cell_type": "code",
   "execution_count": 5,
   "metadata": {},
   "outputs": [
    {
     "data": {
      "text/plain": [
       "          name: None\n",
       "  memory (csr): 263180 bytes\n",
       " memory (deep): 1051877 bytes\n",
       "          type: float64\n",
       "         shape: (65536, 65536)\n",
       "      sparsity: 0.000023\n",
       "         # all: 98304\n",
       "         #  on: 0\n",
       "         # off: 98304\n",
       "    norm (all): 286.216701\n",
       "    norm  (on): 0.000000\n",
       "    norm (off): 286.216701\n",
       "     hermitean: True\n",
       "     symmetric: True\n",
       "       unitary: False\n",
       "     n. blocks: unknown\n",
       "   eigenvalues: computed\n",
       "   eigenstates: computed"
      ]
     },
     "execution_count": 5,
     "metadata": {},
     "output_type": "execute_result"
    }
   ],
   "source": [
    "assert isinstance(Sx[0],Operator), \"Sx[0] should be an Operator instance\"\n",
    "Sx[0]"
   ]
  },
  {
   "cell_type": "markdown",
   "metadata": {},
   "source": [
    "## Hamiltonian"
   ]
  },
  {
   "cell_type": "markdown",
   "metadata": {},
   "source": [
    "Let's construct the Hamiltonian."
   ]
  },
  {
   "cell_type": "code",
   "execution_count": 6,
   "metadata": {},
   "outputs": [],
   "source": [
    "def build_H(Sx,Sy,Sz):\n",
    "    Js = all_Js[name][xc]\n",
    "    h = Heisenberg(Sx,Sy,Sz,Js)\n",
    "    return h.clean()"
   ]
  },
  {
   "cell_type": "code",
   "execution_count": 7,
   "metadata": {},
   "outputs": [
    {
     "data": {
      "text/plain": [
       "          name: None\n",
       "  memory (csr): 263180 bytes\n",
       " memory (deep): 264129 bytes\n",
       "          type: complex128\n",
       "         shape: (65536, 65536)\n",
       "      sparsity: 0.000150\n",
       "         # all: 644592\n",
       "         #  on: 54768\n",
       "         # off: 589824\n",
       "    norm (all): 1078.957624\n",
       "    norm  (on): 762.996501\n",
       "    norm (off): 762.880000\n",
       "     hermitean: True\n",
       "     symmetric: True\n",
       "       unitary: False\n",
       "     n. blocks: unknown\n",
       "   eigenvalues: unknown\n",
       "   eigenstates: unknown"
      ]
     },
     "execution_count": 7,
     "metadata": {},
     "output_type": "execute_result"
    }
   ],
   "source": [
    "# cylindricar coordinates\n",
    "H = build_H(Sx,Sy,Sz)\n",
    "H"
   ]
  },
  {
   "cell_type": "markdown",
   "metadata": {},
   "source": [
    "## Translational symmetry"
   ]
  },
  {
   "cell_type": "markdown",
   "metadata": {},
   "source": [
    "Let's construct the shift operator (or traslation operator) because it will be usefull later on to make the diagonalization of the Hamiltoninan cheaper."
   ]
  },
  {
   "cell_type": "code",
   "execution_count": 8,
   "metadata": {},
   "outputs": [
    {
     "data": {
      "text/plain": [
       "          name: None\n",
       "  memory (csr): 1032 bytes\n",
       " memory (deep): 3627 bytes\n",
       "          type: float64\n",
       "         shape: (65536, 65536)\n",
       "      sparsity: 0.000015\n",
       "         # all: 65536\n",
       "         #  on: 4\n",
       "         # off: 65532\n",
       "    norm (all): 256.000000\n",
       "    norm  (on): 2.000000\n",
       "    norm (off): 255.992187\n",
       "     hermitean: False\n",
       "     symmetric: False\n",
       "       unitary: True\n",
       "     n. blocks: 8230\n",
       "   eigenvalues: computed\n",
       "   eigenstates: computed"
      ]
     },
     "execution_count": 8,
     "metadata": {},
     "output_type": "execute_result"
    }
   ],
   "source": [
    "if os.path.exists(f\"D.S={S}.N={Nsites}.pickle\"):\n",
    "    D = Symmetry.load(f\"D.S={S}.N={Nsites}.pickle\") # load the symmetry operator from a file\n",
    "else:\n",
    "    D:Symmetry = shift(SpinOp)\n",
    "D"
   ]
  },
  {
   "cell_type": "markdown",
   "metadata": {},
   "source": [
    "Let's diagonalize the shift operator so that we have access to its eigenvectors."
   ]
  },
  {
   "cell_type": "code",
   "execution_count": 9,
   "metadata": {},
   "outputs": [
    {
     "data": {
      "text/plain": [
       "          name: None\n",
       "  memory (csr): 1032 bytes\n",
       " memory (deep): 3627 bytes\n",
       "          type: float64\n",
       "         shape: (65536, 65536)\n",
       "      sparsity: 0.000015\n",
       "         # all: 65536\n",
       "         #  on: 4\n",
       "         # off: 65532\n",
       "    norm (all): 256.000000\n",
       "    norm  (on): 2.000000\n",
       "    norm (off): 255.992187\n",
       "     hermitean: False\n",
       "     symmetric: False\n",
       "       unitary: True\n",
       "     n. blocks: 8230\n",
       "   eigenvalues: computed\n",
       "   eigenstates: computed"
      ]
     },
     "execution_count": 9,
     "metadata": {},
     "output_type": "execute_result"
    }
   ],
   "source": [
    "if not D.is_diagonalized():\n",
    "    D.diagonalize(method=\"dense\") # 'dense' is much better than 'jacobi'\n",
    "    \n",
    "if DEBUG:\n",
    "    test = D.test_eigensolution()\n",
    "    assert test.norm() < TOLERANCE, f\"Symmetry operator D is not diagonalized correctly: {test.norm()}\"\n",
    "\n",
    "D"
   ]
  },
  {
   "cell_type": "code",
   "execution_count": 10,
   "metadata": {},
   "outputs": [],
   "source": [
    "if DEBUG :\n",
    "    \n",
    "    test = D.test_eigensolution()\n",
    "    norm  = test.norm()\n",
    "    assert norm < TOLERANCE, f\"Symmetry operator D is not diagonalized correctly: {norm}\"\n",
    "\n",
    "    # the number of energy levels should be equal to the number of sites\n",
    "    l,N = D.energy_levels()\n",
    "    # print(len(l))\n",
    "    assert len(l) == Nsites, \"wrong number of energy levels\"\n",
    "\n",
    "    # the eigenvalues should be the roots of unity\n",
    "    ru = np.sort(roots_of_unity(len(spin_values)))\n",
    "    l  = np.sort(l)    \n",
    "    assert np.allclose(l,ru), \"The eigenvalues should be the roots of the unity.\"\n",
    "\n",
    "\n",
    "# test"
   ]
  },
  {
   "cell_type": "markdown",
   "metadata": {},
   "source": [
    "Let' save the shift operator, and its eigensolutions to file."
   ]
  },
  {
   "cell_type": "code",
   "execution_count": 11,
   "metadata": {},
   "outputs": [],
   "source": [
    "D.save(f\"D.S={S}.N={Nsites}.pickle\") # save the symmetry operator to a file"
   ]
  },
  {
   "cell_type": "markdown",
   "metadata": {},
   "source": [
    "## Diagonalizing the Hamiltonian"
   ]
  },
  {
   "cell_type": "code",
   "execution_count": 12,
   "metadata": {},
   "outputs": [
    {
     "name": "stderr",
     "output_type": "stream",
     "text": [
      "Diagonalizing blocks: 100%|██████████| 186/186 [00:23<00:00,  7.84block/s]\n"
     ]
    },
    {
     "data": {
      "text/plain": [
       "          name: None\n",
       "  memory (csr): 263180 bytes\n",
       " memory (deep): 1576331 bytes\n",
       "          type: complex128\n",
       "         shape: (65536, 65536)\n",
       "      sparsity: 0.000150\n",
       "         # all: 644592\n",
       "         #  on: 54768\n",
       "         # off: 589824\n",
       "    norm (all): 1078.957624\n",
       "    norm  (on): 762.996501\n",
       "    norm (off): 762.880000\n",
       "     hermitean: True\n",
       "     symmetric: True\n",
       "       unitary: False\n",
       "     n. blocks: unknown\n",
       "   eigenvalues: computed\n",
       "   eigenstates: computed"
      ]
     },
     "execution_count": 12,
     "metadata": {},
     "output_type": "execute_result"
    }
   ],
   "source": [
    "if DEBUG:\n",
    "    comm = Operator.commutator(H,D)\n",
    "    assert comm.norm() < TOLERANCE, \"Commutator is not zero, the symmetry operator does not commute with the Hamiltonian\"\n",
    "\n",
    "if not H.is_diagonalized(): \n",
    "    H.diagonalize_with_symmetry(S=[D],method=\"dense\"); # diagonalize the Hamiltonian\n",
    "    \n",
    "if DEBUG:\n",
    "    test = H.test_eigensolution()\n",
    "    norm = test.norm()\n",
    "    assert norm < TOLERANCE, f\"Hamiltonian is not diagonalized correctly: {norm}\"\n",
    "    \n",
    "H"
   ]
  },
  {
   "cell_type": "code",
   "execution_count": 13,
   "metadata": {},
   "outputs": [],
   "source": [
    "H.save(f\"H.{name}.xc={xc}.pickle\") # save the Hamiltonian to a file"
   ]
  },
  {
   "cell_type": "markdown",
   "metadata": {},
   "source": [
    "## Cylindrical coordinates"
   ]
  },
  {
   "cell_type": "code",
   "execution_count": 14,
   "metadata": {},
   "outputs": [
    {
     "name": "stdout",
     "output_type": "stream",
     "text": [
      "Euler angles (in radians):\n",
      " [[0.         0.         0.        ]\n",
      " [0.         0.         0.78539816]\n",
      " [0.         0.         1.57079633]\n",
      " [0.         0.         2.35619449]\n",
      " [0.         0.         3.14159265]\n",
      " [0.         0.         3.92699082]\n",
      " [0.         0.         4.71238898]\n",
      " [0.         0.         5.49778714]]\n"
     ]
    }
   ],
   "source": [
    "EulerAngles = np.zeros((Nsites,3))\n",
    "EulerAngles[:,2] = np.linspace(0,360,Nsites,endpoint=False)\n",
    "EulerAngles = np.pi * EulerAngles / 180\n",
    "print(\"Euler angles (in radians):\\n\", EulerAngles)"
   ]
  },
  {
   "cell_type": "code",
   "execution_count": 15,
   "metadata": {},
   "outputs": [
    {
     "data": {
      "text/plain": [
       "  memory (csr): 263180 bytes\n",
       " memory (deep): 264076 bytes\n",
       "          type: complex128\n",
       "         shape: (65536, 65536)\n",
       "      sparsity: 0.000015\n",
       "         # all: 65536\n",
       "         #  on: 65536\n",
       "         # off: 0\n",
       "    norm (all): 256.000000\n",
       "    norm  (on): 256.000000\n",
       "    norm (off): 0.000000\n",
       "     hermitean: False\n",
       "     symmetric: True\n",
       "       unitary: True\n",
       "     n. blocks: unknown\n",
       "   eigenvalues: unknown\n",
       "   eigenstates: unknown"
      ]
     },
     "execution_count": 15,
     "metadata": {},
     "output_type": "execute_result"
    }
   ],
   "source": [
    "StR,SrR,SzR= rotate_spins(spins,EulerAngles=EulerAngles,method=\"R\")\n",
    "if NEED_EIGENVECTORS:\n",
    "    U, Ud = get_unitary_rotation_matrix(spins, EulerAngles)\n",
    "    Utot = product(U).clean() # this is really memory intensive\n",
    "Utot"
   ]
  },
  {
   "cell_type": "code",
   "execution_count": 16,
   "metadata": {},
   "outputs": [],
   "source": [
    "if DEBUG and NEED_EIGENVECTORS:\n",
    "    StR,SrR,SzR= rotate_spins(spins,EulerAngles=EulerAngles,method=\"R\")\n",
    "    StU,SrU,SzU= rotate_spins(spins,EulerAngles=EulerAngles,method=\"U\")\n",
    "    for n in range(Nsites):\n",
    "        print(f\"Site {n}:\")\n",
    "        assert (StR[n] - StU[n]).norm() < TOLERANCE, \"St rotation mismatch\"\n",
    "        assert (SrR[n] - SrU[n]).norm() < TOLERANCE, \"Sr rotation mismatch\"\n",
    "        assert (SzR[n] - SzU[n]).norm() < TOLERANCE, \"Sz rotation mismatch\"\n",
    "\n",
    "    Utot = product(U).clean()\n",
    "    UdTot = product(Ud).clean()\n",
    "    assert (Utot - UdTot.dagger()).norm() < TOLERANCE, \"Utot and UdTot mismatch\"\n",
    "\n",
    "    for n in range(Nsites):\n",
    "        print(f\"Site {n}:\") \n",
    "        assert (StR[n] - Utot @ Sx[n] @ UdTot).norm() < TOLERANCE, \"St rotation mismatch\"\n",
    "        assert (SrR[n] - Utot @ Sy[n] @ UdTot).norm() < TOLERANCE, \"Sr rotation mismatch\"\n",
    "        assert (SzR[n] - Utot @ Sz[n] @ UdTot).norm() < TOLERANCE, \"Sz rotation mismatch\""
   ]
  },
  {
   "cell_type": "code",
   "execution_count": 17,
   "metadata": {},
   "outputs": [
    {
     "data": {
      "text/plain": [
       "          name: None\n",
       "  memory (csr): 263180 bytes\n",
       " memory (deep): 264129 bytes\n",
       "          type: complex128\n",
       "         shape: (65536, 65536)\n",
       "      sparsity: 0.000150\n",
       "         # all: 644592\n",
       "         #  on: 54768\n",
       "         # off: 589824\n",
       "    norm (all): 1078.957624\n",
       "    norm  (on): 762.996501\n",
       "    norm (off): 762.880000\n",
       "     hermitean: True\n",
       "     symmetric: False\n",
       "       unitary: False\n",
       "     n. blocks: unknown\n",
       "   eigenvalues: unknown\n",
       "   eigenstates: unknown"
      ]
     },
     "execution_count": 17,
     "metadata": {},
     "output_type": "execute_result"
    }
   ],
   "source": [
    "Hcyl = build_H(StR,SrR,SzR)\n",
    "Hcyl"
   ]
  },
  {
   "cell_type": "code",
   "execution_count": 18,
   "metadata": {},
   "outputs": [
    {
     "name": "stdout",
     "output_type": "stream",
     "text": [
      "n of blocks of H   :  25\n",
      "n of blocks of Hcyl:  25\n"
     ]
    }
   ],
   "source": [
    "print(\"n of blocks of H   : \", H.count_blocks()[0])\n",
    "print(\"n of blocks of Hcyl: \", Hcyl.count_blocks()[0])"
   ]
  },
  {
   "cell_type": "code",
   "execution_count": 20,
   "metadata": {},
   "outputs": [],
   "source": [
    "if DEBUG:\n",
    "    Htest = H.unitary_transformation(Utot)\n",
    "    test = Hcyl - Htest\n",
    "    norm = test.norm()\n",
    "    assert norm < TOLERANCE, f\"Hamiltonian in cylindrical coordinates is not correct: {norm}\"\n",
    "    Htest"
   ]
  },
  {
   "cell_type": "code",
   "execution_count": 21,
   "metadata": {},
   "outputs": [
    {
     "data": {
      "text/plain": [
       "          name: None\n",
       "  memory (csr): 263152 bytes\n",
       " memory (deep): 1576109 bytes\n",
       "          type: complex128\n",
       "         shape: (65536, 65536)\n",
       "      sparsity: 0.000150\n",
       "         # all: 644592\n",
       "         #  on: 54768\n",
       "         # off: 589824\n",
       "    norm (all): 1078.957624\n",
       "    norm  (on): 762.996501\n",
       "    norm (off): 762.880000\n",
       "     hermitean: True\n",
       "     symmetric: False\n",
       "       unitary: False\n",
       "     n. blocks: unknown\n",
       "   eigenvalues: computed\n",
       "   eigenstates: computed"
      ]
     },
     "execution_count": 21,
     "metadata": {},
     "output_type": "execute_result"
    }
   ],
   "source": [
    "Hfinal = H.unitary_transformation(Utot) # from cartesian to cylindrical frame\n",
    "if DEBUG:\n",
    "    test = Hfinal.test_eigensolution()\n",
    "    norm = test.norm()\n",
    "    assert norm < TOLERANCE, f\"Hamiltonian in cylindrical coordinates is not correct: {norm}\"\n",
    "Hfinal"
   ]
  },
  {
   "cell_type": "code",
   "execution_count": 22,
   "metadata": {},
   "outputs": [],
   "source": [
    "H = Hfinal"
   ]
  },
  {
   "cell_type": "markdown",
   "metadata": {},
   "source": [
    "## Density of states"
   ]
  },
  {
   "cell_type": "code",
   "execution_count": 23,
   "metadata": {},
   "outputs": [
    {
     "name": "stdout",
     "output_type": "stream",
     "text": [
      "Found 23025 energy levels\n"
     ]
    }
   ],
   "source": [
    "l, N = H.energy_levels() # return the energy levels of the Hamiltonian\n",
    "assert N.sum() == H.shape[0], \"The sum of the energy level weights should be equal to the number of sites\"\n",
    "print(f\"Found {len(l)} energy levels\")"
   ]
  },
  {
   "cell_type": "code",
   "execution_count": 24,
   "metadata": {},
   "outputs": [
    {
     "name": "stderr",
     "output_type": "stream",
     "text": [
      "/home/stoccoel/programs/miniforge/envs/qs/lib/python3.9/site-packages/matplotlib/cbook.py:1762: ComplexWarning: Casting complex values to real discards the imaginary part\n",
      "  return math.isfinite(val)\n",
      "/home/stoccoel/programs/miniforge/envs/qs/lib/python3.9/site-packages/matplotlib/cbook.py:1398: ComplexWarning: Casting complex values to real discards the imaginary part\n",
      "  return np.asarray(x, float)\n"
     ]
    },
    {
     "data": {
      "image/png": "[encoded data removed]",
      "text/plain": [
       "<Figure size 1800x600 with 1 Axes>"
      ]
     },
     "metadata": {},
     "output_type": "display_data"
    },
    {
     "data": {
      "text/plain": [
       "<Figure size 1800x600 with 0 Axes>"
      ]
     },
     "metadata": {},
     "output_type": "display_data"
    }
   ],
   "source": [
    "import numpy as np\n",
    "import matplotlib.pyplot as plt\n",
    "\n",
    "# Example: assume l and N are already defined\n",
    "# l: array of energy levels\n",
    "# N: degeneracies (or set to 1 if not available)\n",
    "\n",
    "# If N not given, use uniform weights:\n",
    "# N = np.ones_like(l)\n",
    "\n",
    "# Parameters\n",
    "sigma = 0.1  # Width of Gaussian\n",
    "E_min, E_max = l.min() - 2*sigma, l.max() + 2*sigma\n",
    "E_vals = np.linspace(E_min, E_max, 1000)\n",
    "\n",
    "# Initialize DOS array\n",
    "dos = np.zeros_like(E_vals)\n",
    "\n",
    "# Manually compute Gaussian for each energy level\n",
    "prefactor = 1 / (sigma * np.sqrt(2 * np.pi))\n",
    "for energy, weight in zip(l, N):\n",
    "    gaussian = weight * prefactor * np.exp(-0.5 * ((E_vals - energy) / sigma)**2)\n",
    "    dos += gaussian\n",
    "\n",
    "# Plotting\n",
    "plt.plot(E_vals, dos)\n",
    "plt.xlabel('energy [eV]')\n",
    "plt.ylabel('DOS')\n",
    "plt.title(r'Density of States (Gaussian broadened with $\\sigma$={:.2f} eV)'.format(sigma))\n",
    "plt.grid(True)\n",
    "# plt.xlim(-20,20)\n",
    "# plt.legend()\n",
    "plt.show()\n",
    "plt.savefig(f\"{name}.xc={xc}.pdf\", bbox_inches='tight')\n"
   ]
  },
  {
   "cell_type": "code",
   "execution_count": null,
   "metadata": {},
   "outputs": [],
   "source": []
  }
 ],
 "metadata": {
  "kernelspec": {
   "display_name": "qs",
   "language": "python",
   "name": "python3"
  },
  "language_info": {
   "codemirror_mode": {
    "name": "ipython",
    "version": 3
   },
   "file_extension": ".py",
   "mimetype": "text/x-python",
   "name": "python",
   "nbconvert_exporter": "python",
   "pygments_lexer": "ipython3",
   "version": "3.9.19"
  }
 },
 "nbformat": 4,
 "nbformat_minor": 2
}
