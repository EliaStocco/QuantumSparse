{
 "cells": [
  {
   "cell_type": "markdown",
   "metadata": {},
   "source": [
    "# Non collinear calculations"
   ]
  },
  {
   "cell_type": "markdown",
   "metadata": {},
   "source": [
    "## Packages"
   ]
  },
  {
   "cell_type": "code",
   "execution_count": 1,
   "metadata": {},
   "outputs": [],
   "source": [
    "from quantumsparse.spin import SpinOperators\n",
    "from quantumsparse.operator import Symmetry, Operator\n",
    "from quantumsparse.spin.shift import shift\n",
    "from quantumsparse.spin import Heisenberg\n",
    "from quantumsparse.spin.functions import rotate_spins, get_unitary_rotation_matrix\n",
    "from quantumsparse.tools.mathematics import product, roots_of_unity\n",
    "import numpy as np\n",
    "from copy import deepcopy\n",
    "import matplotlib.pyplot as plt\n",
    "plt.style.use('../../notebook.mplstyle')                # use matplotlib style notebook.mplstyle"
   ]
  },
  {
   "cell_type": "markdown",
   "metadata": {},
   "source": [
    "## Spin operators"
   ]
  },
  {
   "cell_type": "markdown",
   "metadata": {},
   "source": [
    "Let's define the main parameters of the system: the spin value `S` and the number of sites `Nsites`."
   ]
  },
  {
   "cell_type": "code",
   "execution_count": null,
   "metadata": {},
   "outputs": [],
   "source": [
    "name = \"Cr8\"\n",
    "xc = \"LDA+U\"\n",
    "all_Js = {\n",
    "    \"Cr8\" : {\n",
    "        \"LDA+U\"   : [0.596,0.596,0.843], # eV\n",
    "        \"LDA+U+V\" : [0.848,0.848,1.198], # eV\n",
    "    },\n",
    "    \"V8\"  : {\n",
    "        \"LDA+U\"   : [-0.643,-0.654,-0.913], # eV\n",
    "        \"LDA+U+V\" : [-0.403,-0.403,-0.585], # eV\n",
    "    }\n",
    "}\n",
    "\n",
    "S     = 3./2. # spin value\n",
    "Nsites = 4 # number of sites\n",
    "spin_values = np.full(Nsites,S)"
   ]
  },
  {
   "cell_type": "markdown",
   "metadata": {},
   "source": [
    "From these values we can construct the spin operators `Sx`, `Sy`, and `Sz` of the system (in cartesian coordinates)."
   ]
  },
  {
   "cell_type": "code",
   "execution_count": 3,
   "metadata": {},
   "outputs": [],
   "source": [
    "from scipy.sparse.linalg import expm"
   ]
  },
  {
   "cell_type": "code",
   "execution_count": 4,
   "metadata": {},
   "outputs": [
    {
     "name": "stderr",
     "output_type": "stream",
     "text": [
      "/home/stoccoel/programs/miniforge/envs/qs/lib/python3.9/site-packages/scipy/sparse/linalg/_dsolve/linsolve.py:603: SparseEfficiencyWarning: splu converted its input to CSC format\n",
      "  return splu(A).solve\n",
      "/home/stoccoel/programs/miniforge/envs/qs/lib/python3.9/site-packages/scipy/sparse/linalg/_matfuncs.py:707: SparseEfficiencyWarning: spsolve is more efficient when sparse b is in the CSC matrix format\n",
      "  return spsolve(Q, P)\n"
     ]
    },
    {
     "ename": "KeyboardInterrupt",
     "evalue": "",
     "output_type": "error",
     "traceback": [
      "\u001b[0;31m---------------------------------------------------------------------------\u001b[0m",
      "\u001b[0;31mKeyboardInterrupt\u001b[0m                         Traceback (most recent call last)",
      "Cell \u001b[0;32mIn[4], line 2\u001b[0m\n\u001b[1;32m      1\u001b[0m \u001b[38;5;66;03m# construct the spin operators\u001b[39;00m\n\u001b[0;32m----> 2\u001b[0m SpinOp \u001b[38;5;241m=\u001b[39m \u001b[43mSpinOperators\u001b[49m\u001b[43m(\u001b[49m\u001b[43mspin_values\u001b[49m\u001b[43m)\u001b[49m\n\u001b[1;32m      4\u001b[0m \u001b[38;5;66;03m# unpack the operators\u001b[39;00m\n\u001b[1;32m      5\u001b[0m spins \u001b[38;5;241m=\u001b[39m SpinOp\u001b[38;5;241m.\u001b[39mSx,SpinOp\u001b[38;5;241m.\u001b[39mSy,SpinOp\u001b[38;5;241m.\u001b[39mSz\n",
      "File \u001b[0;32m~/codes/QuantumSparse/quantumsparse/spin/spin_operators.py:73\u001b[0m, in \u001b[0;36mSpinOperators.__init__\u001b[0;34m(self, spin_values, N, S, **argv)\u001b[0m\n\u001b[1;32m     71\u001b[0m     euler \u001b[38;5;241m=\u001b[39m np\u001b[38;5;241m.\u001b[39mzeros((\u001b[38;5;28mlen\u001b[39m(\u001b[38;5;28mself\u001b[39m\u001b[38;5;241m.\u001b[39mspin_values),\u001b[38;5;241m3\u001b[39m),dtype\u001b[38;5;241m=\u001b[39m\u001b[38;5;28mfloat\u001b[39m)\n\u001b[1;32m     72\u001b[0m     euler[:,\u001b[38;5;241m1\u001b[39m] \u001b[38;5;241m=\u001b[39m np\u001b[38;5;241m.\u001b[39mpi\u001b[38;5;241m/\u001b[39m\u001b[38;5;241m2.\u001b[39m \u001b[38;5;66;03m# Sz -> Sx\u001b[39;00m\n\u001b[0;32m---> 73\u001b[0m     test_Sx \u001b[38;5;241m=\u001b[39m \u001b[43mget_unitary_rotation_matrix\u001b[49m\u001b[43m(\u001b[49m\u001b[43m(\u001b[49m\u001b[43mSx\u001b[49m\u001b[43m,\u001b[49m\u001b[43mSy\u001b[49m\u001b[43m,\u001b[49m\u001b[43mSz\u001b[49m\u001b[43m)\u001b[49m\u001b[43m,\u001b[49m\u001b[43meuler\u001b[49m\u001b[43m)\u001b[49m\n\u001b[1;32m     75\u001b[0m     \u001b[38;5;28;01mpass\u001b[39;00m\n\u001b[1;32m     77\u001b[0m \u001b[38;5;28;01mfor\u001b[39;00m n,Sx \u001b[38;5;129;01min\u001b[39;00m \u001b[38;5;28menumerate\u001b[39m(\u001b[38;5;28mself\u001b[39m\u001b[38;5;241m.\u001b[39mSx):\n\u001b[1;32m     78\u001b[0m     \u001b[38;5;66;03m#assert Sx.is_diagonal(), \"error: the Sx operator is not diagonal\"\u001b[39;00m\n",
      "File \u001b[0;32m~/codes/QuantumSparse/quantumsparse/spin/functions.py:90\u001b[0m, in \u001b[0;36mget_unitary_rotation_matrix\u001b[0;34m(spins, EulerAngles)\u001b[0m\n\u001b[1;32m     88\u001b[0m     phi, theta, psi \u001b[38;5;241m=\u001b[39m EulerAngles[n,:]\n\u001b[1;32m     89\u001b[0m     \u001b[38;5;66;03m# theta,n = euler_to_axis_angle(phi, theta, psi)\u001b[39;00m\n\u001b[0;32m---> 90\u001b[0m     U[n] \u001b[38;5;241m=\u001b[39m \u001b[43mSx\u001b[49m\u001b[43m[\u001b[49m\u001b[43mn\u001b[49m\u001b[43m]\u001b[49m\u001b[38;5;241;43m.\u001b[39;49m\u001b[43mexp\u001b[49m\u001b[43m(\u001b[49m\u001b[38;5;241;43m1.\u001b[39;49m\u001b[43mj\u001b[49m\u001b[38;5;241;43m*\u001b[39;49m\u001b[43mphi\u001b[49m\u001b[43m)\u001b[49m \u001b[38;5;241m@\u001b[39m Sy[n]\u001b[38;5;241m.\u001b[39mexp(\u001b[38;5;241m1.\u001b[39mj\u001b[38;5;241m*\u001b[39mtheta) \u001b[38;5;241m@\u001b[39m Sz[n]\u001b[38;5;241m.\u001b[39mexp(\u001b[38;5;241m1.\u001b[39mj\u001b[38;5;241m*\u001b[39mpsi) \n\u001b[1;32m     91\u001b[0m     Ud[n] \u001b[38;5;241m=\u001b[39m U[n]\u001b[38;5;241m.\u001b[39mdagger()\n\u001b[1;32m     92\u001b[0m \u001b[38;5;28;01mreturn\u001b[39;00m U, Ud\n",
      "File \u001b[0;32m~/codes/QuantumSparse/quantumsparse/matrix/matrix.py:1024\u001b[0m, in \u001b[0;36mMatrix.exp\u001b[0;34m(self, alpha, method, diag_inplace, tol, *argv, **kwargs)\u001b[0m\n\u001b[1;32m   1022\u001b[0m \u001b[38;5;28;01melif\u001b[39;00m method \u001b[38;5;241m==\u001b[39m \u001b[38;5;124m\"\u001b[39m\u001b[38;5;124mtest\u001b[39m\u001b[38;5;124m\"\u001b[39m:\n\u001b[1;32m   1023\u001b[0m     a \u001b[38;5;241m=\u001b[39m \u001b[38;5;28mself\u001b[39m\u001b[38;5;241m.\u001b[39mexp(alpha,\u001b[38;5;124m\"\u001b[39m\u001b[38;5;124mscipy\u001b[39m\u001b[38;5;124m\"\u001b[39m,diag_inplace\u001b[38;5;241m=\u001b[39mdiag_inplace,tol\u001b[38;5;241m=\u001b[39mtol,\u001b[38;5;241m*\u001b[39margv,\u001b[38;5;241m*\u001b[39m\u001b[38;5;241m*\u001b[39mkwargs)\n\u001b[0;32m-> 1024\u001b[0m     b \u001b[38;5;241m=\u001b[39m \u001b[38;5;28;43mself\u001b[39;49m\u001b[38;5;241;43m.\u001b[39;49m\u001b[43mexp\u001b[49m\u001b[43m(\u001b[49m\u001b[43malpha\u001b[49m\u001b[43m,\u001b[49m\u001b[38;5;124;43m\"\u001b[39;49m\u001b[38;5;124;43mqs\u001b[39;49m\u001b[38;5;124;43m\"\u001b[39;49m\u001b[43m,\u001b[49m\u001b[43mdiag_inplace\u001b[49m\u001b[38;5;241;43m=\u001b[39;49m\u001b[43mdiag_inplace\u001b[49m\u001b[43m,\u001b[49m\u001b[43mtol\u001b[49m\u001b[38;5;241;43m=\u001b[39;49m\u001b[43mtol\u001b[49m\u001b[43m,\u001b[49m\u001b[38;5;241;43m*\u001b[39;49m\u001b[43margv\u001b[49m\u001b[43m,\u001b[49m\u001b[38;5;241;43m*\u001b[39;49m\u001b[38;5;241;43m*\u001b[39;49m\u001b[43mkwargs\u001b[49m\u001b[43m)\u001b[49m\n\u001b[1;32m   1025\u001b[0m     \u001b[38;5;28;01massert\u001b[39;00m (a\u001b[38;5;241m-\u001b[39mb)\u001b[38;5;241m.\u001b[39mnorm() \u001b[38;5;241m<\u001b[39m tol, \u001b[38;5;124m\"\u001b[39m\u001b[38;5;124merror: expm and qs do not match\u001b[39m\u001b[38;5;124m\"\u001b[39m\n\u001b[1;32m   1026\u001b[0m \u001b[38;5;28;01melse\u001b[39;00m:\n",
      "File \u001b[0;32m~/codes/QuantumSparse/quantumsparse/matrix/matrix.py:1021\u001b[0m, in \u001b[0;36mMatrix.exp\u001b[0;34m(self, alpha, method, diag_inplace, tol, *argv, **kwargs)\u001b[0m\n\u001b[1;32m   1019\u001b[0m \u001b[38;5;28;01melif\u001b[39;00m method \u001b[38;5;241m==\u001b[39m \u001b[38;5;124m\"\u001b[39m\u001b[38;5;124mqs\u001b[39m\u001b[38;5;124m\"\u001b[39m:\n\u001b[1;32m   1020\u001b[0m     func \u001b[38;5;241m=\u001b[39m \u001b[38;5;28;01mlambda\u001b[39;00m x: np\u001b[38;5;241m.\u001b[39mexp(x\u001b[38;5;241m*\u001b[39malpha)\n\u001b[0;32m-> 1021\u001b[0m     \u001b[38;5;28;01mreturn\u001b[39;00m \u001b[38;5;28;43mself\u001b[39;49m\u001b[38;5;241;43m.\u001b[39;49m\u001b[43m_eigenvalues_wise_operation\u001b[49m\u001b[43m(\u001b[49m\u001b[43mfunc\u001b[49m\u001b[43m,\u001b[49m\u001b[43mdiag_inplace\u001b[49m\u001b[38;5;241;43m=\u001b[39;49m\u001b[43mdiag_inplace\u001b[49m\u001b[43m,\u001b[49m\u001b[43mtol\u001b[49m\u001b[38;5;241;43m=\u001b[39;49m\u001b[43mtol\u001b[49m\u001b[43m,\u001b[49m\u001b[38;5;241;43m*\u001b[39;49m\u001b[43margv\u001b[49m\u001b[43m,\u001b[49m\u001b[38;5;241;43m*\u001b[39;49m\u001b[38;5;241;43m*\u001b[39;49m\u001b[43mkwargs\u001b[49m\u001b[43m)\u001b[49m\n\u001b[1;32m   1022\u001b[0m \u001b[38;5;28;01melif\u001b[39;00m method \u001b[38;5;241m==\u001b[39m \u001b[38;5;124m\"\u001b[39m\u001b[38;5;124mtest\u001b[39m\u001b[38;5;124m\"\u001b[39m:\n\u001b[1;32m   1023\u001b[0m     a \u001b[38;5;241m=\u001b[39m \u001b[38;5;28mself\u001b[39m\u001b[38;5;241m.\u001b[39mexp(alpha,\u001b[38;5;124m\"\u001b[39m\u001b[38;5;124mscipy\u001b[39m\u001b[38;5;124m\"\u001b[39m,diag_inplace\u001b[38;5;241m=\u001b[39mdiag_inplace,tol\u001b[38;5;241m=\u001b[39mtol,\u001b[38;5;241m*\u001b[39margv,\u001b[38;5;241m*\u001b[39m\u001b[38;5;241m*\u001b[39mkwargs)\n",
      "File \u001b[0;32m~/codes/QuantumSparse/quantumsparse/matrix/matrix.py:1037\u001b[0m, in \u001b[0;36mMatrix._eigenvalues_wise_operation\u001b[0;34m(self, func, diag_inplace, tol, *argv, **kwargs)\u001b[0m\n\u001b[1;32m   1035\u001b[0m \u001b[38;5;250m\u001b[39m\u001b[38;5;124;03m\"\"\"General function to apply function to a matrix via diagonalization, e.g. exp, ln, sqrt.\"\"\"\u001b[39;00m\n\u001b[1;32m   1036\u001b[0m \u001b[38;5;28;01mif\u001b[39;00m diag_inplace:\n\u001b[0;32m-> 1037\u001b[0m     \u001b[38;5;28;43mself\u001b[39;49m\u001b[38;5;241;43m.\u001b[39;49m\u001b[43mdiagonalize\u001b[49m\u001b[43m(\u001b[49m\u001b[38;5;241;43m*\u001b[39;49m\u001b[43margv\u001b[49m\u001b[43m,\u001b[49m\u001b[38;5;241;43m*\u001b[39;49m\u001b[38;5;241;43m*\u001b[39;49m\u001b[43mkwargs\u001b[49m\u001b[43m)\u001b[49m\n\u001b[1;32m   1038\u001b[0m     new \u001b[38;5;241m=\u001b[39m \u001b[38;5;28mself\u001b[39m\u001b[38;5;241m.\u001b[39mcopy()\n\u001b[1;32m   1039\u001b[0m \u001b[38;5;28;01melse\u001b[39;00m:\n",
      "File \u001b[0;32m~/codes/QuantumSparse/quantumsparse/matrix/matrix.py:980\u001b[0m, in \u001b[0;36mMatrix.diagonalize\u001b[0;34m(self, restart, tol, max_iter, **argv)\u001b[0m\n\u001b[1;32m    976\u001b[0m     \u001b[38;5;28mself\u001b[39m\u001b[38;5;241m.\u001b[39meigenstates \u001b[38;5;241m=\u001b[39m \u001b[38;5;28;01mNone\u001b[39;00m\n\u001b[1;32m    977\u001b[0m     \u001b[38;5;66;03m##NEARLY_DIAG## self.nearly_diag = None\u001b[39;00m\n\u001b[1;32m    978\u001b[0m \n\u001b[1;32m    979\u001b[0m \u001b[38;5;66;03m##NEARLY_DIAG##w,f,_ = super().eigensolver(method=method,original=True,tol=tol,max_iter=max_iter)\u001b[39;00m\n\u001b[0;32m--> 980\u001b[0m \u001b[38;5;28mself\u001b[39m\u001b[38;5;241m.\u001b[39meigenvalues,\u001b[38;5;28mself\u001b[39m\u001b[38;5;241m.\u001b[39meigenstates \u001b[38;5;241m=\u001b[39m \u001b[38;5;28;43mself\u001b[39;49m\u001b[38;5;241;43m.\u001b[39;49m\u001b[43meigensolver\u001b[49m\u001b[43m(\u001b[49m\u001b[43moriginal\u001b[49m\u001b[38;5;241;43m=\u001b[39;49m\u001b[38;5;28;43;01mTrue\u001b[39;49;00m\u001b[43m,\u001b[49m\u001b[43mtol\u001b[49m\u001b[38;5;241;43m=\u001b[39;49m\u001b[43mtol\u001b[49m\u001b[43m,\u001b[49m\u001b[43mmax_iter\u001b[49m\u001b[38;5;241;43m=\u001b[39;49m\u001b[43mmax_iter\u001b[49m\u001b[43m,\u001b[49m\u001b[38;5;241;43m*\u001b[39;49m\u001b[38;5;241;43m*\u001b[39;49m\u001b[43margv\u001b[49m\u001b[43m)\u001b[49m\n\u001b[1;32m    982\u001b[0m \u001b[38;5;28mself\u001b[39m\u001b[38;5;241m.\u001b[39meigenstates\u001b[38;5;241m.\u001b[39mn_blocks \u001b[38;5;241m=\u001b[39m \u001b[38;5;28mself\u001b[39m\u001b[38;5;241m.\u001b[39mn_blocks\n\u001b[1;32m    983\u001b[0m \u001b[38;5;28mself\u001b[39m\u001b[38;5;241m.\u001b[39meigenstates\u001b[38;5;241m.\u001b[39mblocks \u001b[38;5;241m=\u001b[39m \u001b[38;5;28mself\u001b[39m\u001b[38;5;241m.\u001b[39mblocks\n",
      "File \u001b[0;32m~/codes/QuantumSparse/quantumsparse/matrix/matrix.py:925\u001b[0m, in \u001b[0;36mMatrix.eigensolver\u001b[0;34m(self, original, tol, max_iter, **argv)\u001b[0m\n\u001b[1;32m    921\u001b[0m     \u001b[38;5;28mself\u001b[39m\u001b[38;5;241m.\u001b[39meigenvalues,\u001b[38;5;28mself\u001b[39m\u001b[38;5;241m.\u001b[39meigenstates \u001b[38;5;241m=\u001b[39m eigh(M) \u001b[38;5;28;01mif\u001b[39;00m \u001b[38;5;28mself\u001b[39m\u001b[38;5;241m.\u001b[39mis_hermitean() \u001b[38;5;28;01melse\u001b[39;00m eig(M)\n\u001b[1;32m    923\u001b[0m \u001b[38;5;28;01melif\u001b[39;00m \u001b[38;5;28mself\u001b[39m\u001b[38;5;241m.\u001b[39mn_blocks \u001b[38;5;241m>\u001b[39m \u001b[38;5;241m1\u001b[39m:\n\u001b[1;32m    924\u001b[0m     \u001b[38;5;66;03m##NEARLY_DIAG## w,f,N = self.diagonalize_each_block(labels=labels,original=True,method=method,tol=tol,max_iter=max_iter)\u001b[39;00m\n\u001b[0;32m--> 925\u001b[0m     \u001b[38;5;28mself\u001b[39m\u001b[38;5;241m.\u001b[39meigenvalues,\u001b[38;5;28mself\u001b[39m\u001b[38;5;241m.\u001b[39meigenstates \u001b[38;5;241m=\u001b[39m \u001b[38;5;28;43mself\u001b[39;49m\u001b[38;5;241;43m.\u001b[39;49m\u001b[43mdiagonalize_each_block\u001b[49m\u001b[43m(\u001b[49m\u001b[43mlabels\u001b[49m\u001b[38;5;241;43m=\u001b[39;49m\u001b[43mlabels\u001b[49m\u001b[43m,\u001b[49m\u001b[43moriginal\u001b[49m\u001b[38;5;241;43m=\u001b[39;49m\u001b[38;5;28;43;01mTrue\u001b[39;49;00m\u001b[43m,\u001b[49m\u001b[43mtol\u001b[49m\u001b[38;5;241;43m=\u001b[39;49m\u001b[43mtol\u001b[49m\u001b[43m,\u001b[49m\u001b[43mmax_iter\u001b[49m\u001b[38;5;241;43m=\u001b[39;49m\u001b[43mmax_iter\u001b[49m\u001b[43m,\u001b[49m\u001b[38;5;241;43m*\u001b[39;49m\u001b[38;5;241;43m*\u001b[39;49m\u001b[43margv\u001b[49m\u001b[43m)\u001b[49m\n\u001b[1;32m    927\u001b[0m \u001b[38;5;28;01melse\u001b[39;00m :\n\u001b[1;32m    928\u001b[0m     \u001b[38;5;28;01mraise\u001b[39;00m \u001b[38;5;167;01mValueError\u001b[39;00m(\u001b[38;5;124m\"\u001b[39m\u001b[38;5;124merror: n. of block should be >= 1\u001b[39m\u001b[38;5;124m\"\u001b[39m)\n",
      "File \u001b[0;32m~/codes/QuantumSparse/quantumsparse/matrix/matrix.py:858\u001b[0m, in \u001b[0;36mMatrix.diagonalize_each_block\u001b[0;34m(self, labels, original, tol, max_iter, **argv)\u001b[0m\n\u001b[1;32m    851\u001b[0m     \u001b[38;5;28mself\u001b[39m\u001b[38;5;241m.\u001b[39mextras[\u001b[38;5;124m\"\u001b[39m\u001b[38;5;124mblockeigenvalues\u001b[39m\u001b[38;5;124m\"\u001b[39m]    \u001b[38;5;241m=\u001b[39m deepcopy(eigenvalues)\n\u001b[1;32m    853\u001b[0m \u001b[38;5;66;03m# Attention:\u001b[39;00m\n\u001b[1;32m    854\u001b[0m \u001b[38;5;66;03m# This is extremely inefficient for large matrices\u001b[39;00m\n\u001b[1;32m    855\u001b[0m \u001b[38;5;66;03m# because if you are using a symmetry operator\u001b[39;00m\n\u001b[1;32m    856\u001b[0m \u001b[38;5;66;03m# when coming back to the original basis \u001b[39;00m\n\u001b[1;32m    857\u001b[0m \u001b[38;5;66;03m# the eigenstates will no longer be in block form.\u001b[39;00m\n\u001b[0;32m--> 858\u001b[0m eigenstates \u001b[38;5;241m=\u001b[39m \u001b[43mMatrix\u001b[49m\u001b[38;5;241;43m.\u001b[39;49m\u001b[43mfrom_blocks\u001b[49m\u001b[43m(\u001b[49m\u001b[43meigenstates\u001b[49m\u001b[43m)\u001b[49m\n\u001b[1;32m    859\u001b[0m \u001b[38;5;66;03m# eigenstates = DiagonalBlockMatrix(eigenstates)\u001b[39;00m\n\u001b[1;32m    860\u001b[0m eigenvalues \u001b[38;5;241m=\u001b[39m np\u001b[38;5;241m.\u001b[39mconcatenate(eigenvalues)\n",
      "File \u001b[0;32m~/codes/QuantumSparse/quantumsparse/matrix/matrix.py:693\u001b[0m, in \u001b[0;36mMatrix.from_blocks\u001b[0;34m(cls, blocks)\u001b[0m\n\u001b[1;32m    691\u001b[0m     tmp[n,n] \u001b[38;5;241m=\u001b[39m blocks[n]\n\u001b[1;32m    692\u001b[0m \u001b[38;5;28;01mif\u001b[39;00m Matrix\u001b[38;5;241m.\u001b[39mmodule \u001b[38;5;129;01mis\u001b[39;00m sparse : \n\u001b[0;32m--> 693\u001b[0m     \u001b[38;5;28;01mreturn\u001b[39;00m \u001b[38;5;28mcls\u001b[39m(\u001b[43msparse\u001b[49m\u001b[38;5;241;43m.\u001b[39;49m\u001b[43mbmat\u001b[49m\u001b[43m(\u001b[49m\u001b[43mtmp\u001b[49m\u001b[43m)\u001b[49m)\n\u001b[1;32m    694\u001b[0m \u001b[38;5;28;01melse\u001b[39;00m :\n\u001b[1;32m    695\u001b[0m     \u001b[38;5;28;01mraise\u001b[39;00m \u001b[38;5;167;01mValueError\u001b[39;00m(\u001b[38;5;124m\"\u001b[39m\u001b[38;5;124merror\u001b[39m\u001b[38;5;124m\"\u001b[39m)\n",
      "File \u001b[0;32m~/programs/miniforge/envs/qs/lib/python3.9/site-packages/scipy/sparse/_construct.py:842\u001b[0m, in \u001b[0;36mbmat\u001b[0;34m(blocks, format, dtype)\u001b[0m\n\u001b[1;32m    785\u001b[0m \u001b[38;5;250m\u001b[39m\u001b[38;5;124;03m\"\"\"\u001b[39;00m\n\u001b[1;32m    786\u001b[0m \u001b[38;5;124;03mBuild a sparse array or matrix from sparse sub-blocks\u001b[39;00m\n\u001b[1;32m    787\u001b[0m \n\u001b[0;32m   (...)\u001b[0m\n\u001b[1;32m    839\u001b[0m \n\u001b[1;32m    840\u001b[0m \u001b[38;5;124;03m\"\"\"\u001b[39;00m\n\u001b[1;32m    841\u001b[0m blocks \u001b[38;5;241m=\u001b[39m np\u001b[38;5;241m.\u001b[39masarray(blocks, dtype\u001b[38;5;241m=\u001b[39m\u001b[38;5;124m'\u001b[39m\u001b[38;5;124mobject\u001b[39m\u001b[38;5;124m'\u001b[39m)\n\u001b[0;32m--> 842\u001b[0m \u001b[38;5;28;01mif\u001b[39;00m \u001b[38;5;28;43many\u001b[39;49m\u001b[43m(\u001b[49m\u001b[38;5;28;43misinstance\u001b[39;49m\u001b[43m(\u001b[49m\u001b[43mb\u001b[49m\u001b[43m,\u001b[49m\u001b[43m \u001b[49m\u001b[43msparray\u001b[49m\u001b[43m)\u001b[49m\u001b[43m \u001b[49m\u001b[38;5;28;43;01mfor\u001b[39;49;00m\u001b[43m \u001b[49m\u001b[43mb\u001b[49m\u001b[43m \u001b[49m\u001b[38;5;129;43;01min\u001b[39;49;00m\u001b[43m \u001b[49m\u001b[43mblocks\u001b[49m\u001b[38;5;241;43m.\u001b[39;49m\u001b[43mflat\u001b[49m\u001b[43m)\u001b[49m:\n\u001b[1;32m    843\u001b[0m     \u001b[38;5;28;01mreturn\u001b[39;00m _block(blocks, \u001b[38;5;28mformat\u001b[39m, dtype)\n\u001b[1;32m    844\u001b[0m \u001b[38;5;28;01melse\u001b[39;00m:\n",
      "File \u001b[0;32m~/programs/miniforge/envs/qs/lib/python3.9/site-packages/scipy/sparse/_construct.py:842\u001b[0m, in \u001b[0;36m<genexpr>\u001b[0;34m(.0)\u001b[0m\n\u001b[1;32m    785\u001b[0m \u001b[38;5;250m\u001b[39m\u001b[38;5;124;03m\"\"\"\u001b[39;00m\n\u001b[1;32m    786\u001b[0m \u001b[38;5;124;03mBuild a sparse array or matrix from sparse sub-blocks\u001b[39;00m\n\u001b[1;32m    787\u001b[0m \n\u001b[0;32m   (...)\u001b[0m\n\u001b[1;32m    839\u001b[0m \n\u001b[1;32m    840\u001b[0m \u001b[38;5;124;03m\"\"\"\u001b[39;00m\n\u001b[1;32m    841\u001b[0m blocks \u001b[38;5;241m=\u001b[39m np\u001b[38;5;241m.\u001b[39masarray(blocks, dtype\u001b[38;5;241m=\u001b[39m\u001b[38;5;124m'\u001b[39m\u001b[38;5;124mobject\u001b[39m\u001b[38;5;124m'\u001b[39m)\n\u001b[0;32m--> 842\u001b[0m \u001b[38;5;28;01mif\u001b[39;00m \u001b[38;5;28many\u001b[39m(\u001b[38;5;28misinstance\u001b[39m(b, sparray) \u001b[38;5;28;01mfor\u001b[39;00m b \u001b[38;5;129;01min\u001b[39;00m blocks\u001b[38;5;241m.\u001b[39mflat):\n\u001b[1;32m    843\u001b[0m     \u001b[38;5;28;01mreturn\u001b[39;00m _block(blocks, \u001b[38;5;28mformat\u001b[39m, dtype)\n\u001b[1;32m    844\u001b[0m \u001b[38;5;28;01melse\u001b[39;00m:\n",
      "File \u001b[0;32m_pydevd_bundle\\\\pydevd_cython.pyx:1697\u001b[0m, in \u001b[0;36m_pydevd_bundle.pydevd_cython.SafeCallWrapper.__call__\u001b[0;34m()\u001b[0m\n",
      "File \u001b[0;32m_pydevd_bundle\\\\pydevd_cython.pyx:2017\u001b[0m, in \u001b[0;36m_pydevd_bundle.pydevd_cython.ThreadTracer.__call__\u001b[0;34m()\u001b[0m\n",
      "File \u001b[0;32m~/programs/miniforge/envs/qs/lib/python3.9/site-packages/debugpy/_vendored/pydevd/_pydev_bundle/pydev_is_thread_alive.py:16\u001b[0m, in \u001b[0;36mis_thread_alive\u001b[0;34m(t)\u001b[0m\n\u001b[1;32m     11\u001b[0m         \u001b[38;5;28;01mreturn\u001b[39;00m \u001b[38;5;129;01mnot\u001b[39;00m t\u001b[38;5;241m.\u001b[39m_handle\u001b[38;5;241m.\u001b[39mis_done()\n\u001b[1;32m     14\u001b[0m \u001b[38;5;28;01melif\u001b[39;00m \u001b[38;5;28mhasattr\u001b[39m(_temp, \u001b[38;5;124m\"\u001b[39m\u001b[38;5;124m_is_stopped\u001b[39m\u001b[38;5;124m\"\u001b[39m):  \u001b[38;5;66;03m# Python 3.12 and earlier has this\u001b[39;00m\n\u001b[0;32m---> 16\u001b[0m     \u001b[38;5;28;01mdef\u001b[39;00m\u001b[38;5;250m \u001b[39m\u001b[38;5;21mis_thread_alive\u001b[39m(t):\n\u001b[1;32m     17\u001b[0m         \u001b[38;5;28;01mreturn\u001b[39;00m \u001b[38;5;129;01mnot\u001b[39;00m t\u001b[38;5;241m.\u001b[39m_is_stopped\n\u001b[1;32m     19\u001b[0m \u001b[38;5;28;01melif\u001b[39;00m \u001b[38;5;28mhasattr\u001b[39m(_temp, \u001b[38;5;124m\"\u001b[39m\u001b[38;5;124m_Thread__stopped\u001b[39m\u001b[38;5;124m\"\u001b[39m):  \u001b[38;5;66;03m# Python 2.x has this\u001b[39;00m\n",
      "\u001b[0;31mKeyboardInterrupt\u001b[0m: "
     ]
    }
   ],
   "source": [
    "# construct the spin operators\n",
    "SpinOp = SpinOperators(spin_values)\n",
    "\n",
    "# unpack the operators\n",
    "spins = SpinOp.Sx,SpinOp.Sy,SpinOp.Sz\n",
    "Sx,Sy,Sz = spins"
   ]
  },
  {
   "cell_type": "code",
   "execution_count": null,
   "metadata": {},
   "outputs": [],
   "source": [
    "# let's show the Hilbert space basis:\n",
    "# each row is a basis state\n",
    "# each column if one component in the Sz-basis\n",
    "SpinOp.basis"
   ]
  },
  {
   "cell_type": "markdown",
   "metadata": {},
   "source": [
    "Pay attention that `Sx` (as well as `Sy`, and `Sz`) are `numpy.array` with lenght `Nsites`, and each one of its element is a `Operator` object.\n",
    "\n",
    "Let's inspect one element."
   ]
  },
  {
   "cell_type": "code",
   "execution_count": null,
   "metadata": {},
   "outputs": [],
   "source": [
    "assert isinstance(Sx[0],Operator), \"Sx[0] should be an Operator instance\"\n",
    "Sx[0]"
   ]
  },
  {
   "cell_type": "markdown",
   "metadata": {},
   "source": [
    "## From cartesian to cylindrical frame"
   ]
  },
  {
   "cell_type": "code",
   "execution_count": null,
   "metadata": {},
   "outputs": [],
   "source": [
    "EulerAngles = np.zeros((Nsites,3))\n",
    "EulerAngles[:,2] = np.linspace(0,360,Nsites,endpoint=False)\n",
    "EulerAngles = np.pi * EulerAngles / 180\n",
    "print(\"Euler angles (in radians):\\n\", EulerAngles)\n",
    "print(\"Delta Euler angles (in deg):\\n\", np.diff(EulerAngles,axis=0)*180/np.pi)"
   ]
  },
  {
   "cell_type": "code",
   "execution_count": null,
   "metadata": {},
   "outputs": [],
   "source": [
    "Sx, Sy, Sx = spins"
   ]
  },
  {
   "cell_type": "code",
   "execution_count": null,
   "metadata": {},
   "outputs": [],
   "source": [
    "Sz[0]"
   ]
  },
  {
   "cell_type": "code",
   "execution_count": null,
   "metadata": {},
   "outputs": [],
   "source": [
    "U, Ud = get_unitary_rotation_matrix(spins, EulerAngles) # this is very expensive for large matrices\n",
    "StR,SrR,SzR= rotate_spins(spins,EulerAngles=EulerAngles,method=\"R\")\n",
    "StU,SrU,SzU= rotate_spins(spins,EulerAngles=EulerAngles,method=\"U\")"
   ]
  },
  {
   "cell_type": "code",
   "execution_count": null,
   "metadata": {},
   "outputs": [],
   "source": [
    "tol = 1e-12  # or whatever precision you consider acceptable\n",
    "for n in range(Nsites):\n",
    "    assert (StR[n] - StU[n]).norm() < tol, \"St rotation mismatch\"\n",
    "    assert (SrR[n] - SrU[n]).norm() < tol, \"Sr rotation mismatch\"\n",
    "    assert (SzR[n] - SzU[n]).norm() < tol, \"Sz rotation mismatch\"\n",
    "\n",
    "Utot = product(U)\n",
    "UdTot = product(Ud)\n",
    "assert (Utot - UdTot.dagger()).norm() < tol, \"Utot and UdTot mismatch\"\n",
    "\n",
    "for n in range(Nsites):\n",
    "    assert (StR[n] - Utot @ Sx[n] @ UdTot).norm() < tol, \"St rotation mismatch\"\n",
    "    assert (SrR[n] - Utot @ Sy[n] @ UdTot).norm() < tol, \"Sr rotation mismatch\"\n",
    "    assert (SzR[n] - Utot @ Sz[n] @ UdTot).norm() < tol, \"Sz rotation mismatch\""
   ]
  },
  {
   "cell_type": "markdown",
   "metadata": {},
   "source": [
    "## Hamiltonian"
   ]
  },
  {
   "cell_type": "markdown",
   "metadata": {},
   "source": [
    "Let's construct the hamiltonian."
   ]
  },
  {
   "cell_type": "code",
   "execution_count": null,
   "metadata": {},
   "outputs": [],
   "source": [
    "# cylindricar coordinates\n",
    "\n",
    "# Js = [-0.643,-0.654,-0.913] # V8, LDA+U, eV\n",
    "# Js = [-0.403,-0.403,-0.585] # V8, LDA+U+V, eV\n",
    "# Js = [0.596,0.596,0.843] # Cr8, LDA+U, eV\n",
    "# Js = [0.848,0.848,1.198] # Cr8, LDA+U+V, eV\n",
    "Js = all_Js[name][xc]\n",
    "\n",
    "H = Heisenberg(Sx,Sy,Sz,Js) # Hamiltonian in cartesian coordinates\n",
    "# H = Heisenberg(St,Sr,Sz,Js) # Hamiltonian in cyclindrical coordinates\n",
    "H"
   ]
  },
  {
   "cell_type": "markdown",
   "metadata": {},
   "source": [
    "## Symmetry operators"
   ]
  },
  {
   "cell_type": "markdown",
   "metadata": {},
   "source": [
    "Let's construct the shift operator (or traslation operator) because it will be usefull later on to make the diagonalization of the Hamiltoninan cheaper."
   ]
  },
  {
   "cell_type": "code",
   "execution_count": null,
   "metadata": {},
   "outputs": [],
   "source": [
    "# D = Symmetry.load(f\"D.S={S}.N={Nsites}.pickle\") # save the symmetry operator to a file\n",
    "D:Symmetry = shift(SpinOp)\n",
    "# D:Symmetry = shift(SpinOpCyl) # D is a symmetry operator that shifts the spin operators\n",
    "D"
   ]
  },
  {
   "cell_type": "markdown",
   "metadata": {},
   "source": [
    "Let's diagonalize the shift operator so that we have access to its eigenvectors."
   ]
  },
  {
   "cell_type": "code",
   "execution_count": null,
   "metadata": {},
   "outputs": [],
   "source": [
    "D.diagonalize(method=\"dense\") # 'dense' is much better than 'jacobi'"
   ]
  },
  {
   "cell_type": "code",
   "execution_count": null,
   "metadata": {},
   "outputs": [],
   "source": [
    "# let's inspect again the symmetry operator\n",
    "D"
   ]
  },
  {
   "cell_type": "code",
   "execution_count": null,
   "metadata": {},
   "outputs": [],
   "source": [
    "test = D.test_eigensolution() # return a matrix that measures the discrepancy between the operator and its eigenvectors\n",
    "assert test.norm() < 1e-10, \"Test eigen solution failed, discrepancy is too high\"\n",
    "\n",
    "# the number of energy levels should be equal to the number of sites\n",
    "l,N = D.energy_levels()\n",
    "# print(len(l))\n",
    "assert len(l) == Nsites, \"wrong number of energy levels\"\n",
    "\n",
    "# the eigenvalues should be the roots of unity\n",
    "ru = np.sort(roots_of_unity(len(spin_values)))\n",
    "l  = np.sort(l)    \n",
    "assert np.allclose(l,ru), \"The eigenvalues should be the roots of the unity.\"\n",
    "\n",
    "\n",
    "test"
   ]
  },
  {
   "cell_type": "markdown",
   "metadata": {},
   "source": [
    "Let' save the shift operator, and its eigensolutions to file."
   ]
  },
  {
   "cell_type": "code",
   "execution_count": null,
   "metadata": {},
   "outputs": [],
   "source": [
    "D.save(f\"D.S={S}.N={Nsites}.pickle\") # save the symmetry operator to a file"
   ]
  },
  {
   "cell_type": "markdown",
   "metadata": {},
   "source": [
    "## Diagonalizing the Hamiltonian"
   ]
  },
  {
   "cell_type": "code",
   "execution_count": null,
   "metadata": {},
   "outputs": [],
   "source": [
    "comm = Operator.commutator(H,D)\n",
    "assert comm.norm() < 1e-10, \"Commutator is not zero, the symmetry operator does not commute with the Hamiltonian\""
   ]
  },
  {
   "cell_type": "code",
   "execution_count": null,
   "metadata": {},
   "outputs": [],
   "source": [
    "H.diagonalize_with_symmetry(S=[D],method=\"dense\"); # diagonalize the Hamiltonian"
   ]
  },
  {
   "cell_type": "code",
   "execution_count": null,
   "metadata": {},
   "outputs": [],
   "source": [
    "test = H.test_eigensolution() # test the eigen solution of the Hamiltonian\n",
    "assert test.norm() < 1e-10, \"Test eigen solution failed, discrepancy is too high\""
   ]
  },
  {
   "cell_type": "code",
   "execution_count": null,
   "metadata": {},
   "outputs": [],
   "source": [
    "H.save(f\"{name}.xc={xc}.pickle\") # save the symmetry operator to a file"
   ]
  },
  {
   "cell_type": "markdown",
   "metadata": {},
   "source": [
    "## Cylindrical coordinates"
   ]
  },
  {
   "cell_type": "code",
   "execution_count": null,
   "metadata": {},
   "outputs": [],
   "source": [
    "Hcyl = Heisenberg(StR,SrR,SzR,Js)"
   ]
  },
  {
   "cell_type": "code",
   "execution_count": null,
   "metadata": {},
   "outputs": [],
   "source": [
    "assert (Hcyl - Utot @ H @ UdTot).norm() < 1e-10, \"error\""
   ]
  },
  {
   "cell_type": "code",
   "execution_count": null,
   "metadata": {},
   "outputs": [],
   "source": [
    "Dcyl = Utot @ D @ UdTot\n",
    "comm = Operator.commutator(Hcyl,Dcyl)\n",
    "assert comm.norm() < 1e-10, \"Commutator is not zero, the symmetry operator does not commute with the Hamiltonian\""
   ]
  },
  {
   "cell_type": "code",
   "execution_count": null,
   "metadata": {},
   "outputs": [],
   "source": [
    "Dcyl"
   ]
  },
  {
   "cell_type": "code",
   "execution_count": null,
   "metadata": {},
   "outputs": [],
   "source": [
    "_Hcyl = H.unitary_transformation(Utot)\n",
    "assert (_Hcyl - Hcyl).norm() < 1e-10, \"The Hamiltonian in cylindrical coordinates does not match the one in cartesian coordinates after the unitary transformation\"\n",
    "\n",
    "comm = Operator.commutator(_Hcyl,Dcyl)\n",
    "assert comm.norm() < 1e-10, \"Commutator is not zero, the symmetry operator does not commute with the Hamiltonian\""
   ]
  },
  {
   "cell_type": "code",
   "execution_count": null,
   "metadata": {},
   "outputs": [],
   "source": [
    "test = _Hcyl.test_eigensolution() # test the eigen solution of the Hamiltonian\n",
    "assert test.norm() < 1e-10, \"Test eigen solution failed, discrepancy is too high\""
   ]
  },
  {
   "cell_type": "code",
   "execution_count": null,
   "metadata": {},
   "outputs": [],
   "source": [
    "_Hcyl.energy_levels()"
   ]
  },
  {
   "cell_type": "code",
   "execution_count": null,
   "metadata": {},
   "outputs": [],
   "source": [
    "H = _Hcyl"
   ]
  },
  {
   "cell_type": "markdown",
   "metadata": {},
   "source": [
    "## Density of states"
   ]
  },
  {
   "cell_type": "code",
   "execution_count": null,
   "metadata": {},
   "outputs": [],
   "source": [
    "l, N = H.energy_levels() # return the energy levels of the Hamiltonian\n",
    "assert N.sum() == H.shape[0], \"The sum of the energy level weights should be equal to the number of sites\"\n",
    "print(f\"Found {len(l)} energy levels\")"
   ]
  },
  {
   "cell_type": "code",
   "execution_count": null,
   "metadata": {},
   "outputs": [],
   "source": [
    "import numpy as np\n",
    "import matplotlib.pyplot as plt\n",
    "\n",
    "# Example: assume l and N are already defined\n",
    "# l: array of energy levels\n",
    "# N: degeneracies (or set to 1 if not available)\n",
    "\n",
    "# If N not given, use uniform weights:\n",
    "# N = np.ones_like(l)\n",
    "\n",
    "# Parameters\n",
    "sigma = 0.1  # Width of Gaussian\n",
    "E_min, E_max = l.min() - 2*sigma, l.max() + 2*sigma\n",
    "E_vals = np.linspace(E_min, E_max, 1000)\n",
    "\n",
    "# Initialize DOS array\n",
    "dos = np.zeros_like(E_vals)\n",
    "\n",
    "# Manually compute Gaussian for each energy level\n",
    "prefactor = 1 / (sigma * np.sqrt(2 * np.pi))\n",
    "for energy, weight in zip(l, N):\n",
    "    gaussian = weight * prefactor * np.exp(-0.5 * ((E_vals - energy) / sigma)**2)\n",
    "    dos += gaussian\n",
    "\n",
    "# Plotting\n",
    "plt.plot(E_vals, dos)\n",
    "plt.xlabel('energy [eV]')\n",
    "plt.ylabel('DOS')\n",
    "plt.title(r'Density of States (Gaussian broadened with $\\sigma$={:.2f} eV)'.format(sigma))\n",
    "plt.grid(True)\n",
    "# plt.xlim(-20,20)\n",
    "# plt.legend()\n",
    "plt.show()\n",
    "plt.savefig(f\"{name}.xc={xc}.pdf\", bbox_inches='tight')\n"
   ]
  },
  {
   "cell_type": "code",
   "execution_count": null,
   "metadata": {},
   "outputs": [],
   "source": []
  }
 ],
 "metadata": {
  "kernelspec": {
   "display_name": "qs",
   "language": "python",
   "name": "python3"
  },
  "language_info": {
   "codemirror_mode": {
    "name": "ipython",
    "version": 3
   },
   "file_extension": ".py",
   "mimetype": "text/x-python",
   "name": "python",
   "nbconvert_exporter": "python",
   "pygments_lexer": "ipython3",
   "version": "3.9.19"
  }
 },
 "nbformat": 4,
 "nbformat_minor": 2
}
