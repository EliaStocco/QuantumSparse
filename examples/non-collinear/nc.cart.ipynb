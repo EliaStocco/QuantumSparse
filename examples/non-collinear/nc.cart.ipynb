{
 "cells": [
  {
   "cell_type": "markdown",
   "metadata": {},
   "source": [
    "# Non collinear calculations"
   ]
  },
  {
   "cell_type": "markdown",
   "metadata": {},
   "source": [
    "## Packages"
   ]
  },
  {
   "cell_type": "code",
   "execution_count": 1,
   "metadata": {},
   "outputs": [],
   "source": [
    "from quantumsparse.spin import SpinOperators\n",
    "from quantumsparse.operator import Symmetry, roots_of_unity, Operator\n",
    "from quantumsparse.spin.shift import shift\n",
    "from quantumsparse.spin import Heisenberg\n",
    "from quantumsparse.spin.functions import rotate_spins\n",
    "import numpy as np\n",
    "from copy import deepcopy\n",
    "import matplotlib.pyplot as plt\n",
    "plt.style.use('../../notebook.mplstyle')                # use matplotlib style notebook.mplstyle"
   ]
  },
  {
   "cell_type": "markdown",
   "metadata": {},
   "source": [
    "## Spin operators"
   ]
  },
  {
   "cell_type": "markdown",
   "metadata": {},
   "source": [
    "Let's define the main parameters of the system: the spin value `S` and the number of sites `Nsites`."
   ]
  },
  {
   "cell_type": "code",
   "execution_count": null,
   "metadata": {},
   "outputs": [],
   "source": [
    "name = \"Cr8\"\n",
    "xc = \"LDA+U\"\n",
    "all_Js = {\n",
    "    \"Cr8\" : {\n",
    "        \"LDA+U\"   : [0.596,0.596,0.843], # eV\n",
    "        \"LDA+U+V\" : [0.848,0.848,1.198], # eV\n",
    "    },\n",
    "    \"V8\"  : {\n",
    "        \"LDA+U\"   : [-0.643,-0.654,-0.913], # eV\n",
    "        \"LDA+U+V\" : [-0.403,-0.403,-0.585], # eV\n",
    "    }\n",
    "}\n",
    "\n",
    "S     = 3./2. # spin value\n",
    "Nsites = 8 # number of sites\n",
    "spin_values = np.full(Nsites,S)"
   ]
  },
  {
   "cell_type": "markdown",
   "metadata": {},
   "source": [
    "From these values we can construct the spin operators `Sx`, `Sy`, and `Sz` of the system (in cartesian coordinates)."
   ]
  },
  {
   "cell_type": "code",
   "execution_count": 3,
   "metadata": {},
   "outputs": [
    {
     "name": "stdout",
     "output_type": "stream",
     "text": [
      "\n",
      "\tcomputing the spin operators\n",
      "\t\tinput parameters:\n",
      "\t\t             N spins : 8                                                           \n",
      "\t\t         spin values : [ 1.500000 , 1.500000 , 1.500000 , 1.500000 , 1.500000 , 1.500000 , 1.500000 , 1.500000  ]\n",
      "\t\t          dimensions : [ 4 , 4 , 4 , 4 , 4 , 4 , 4 , 4  ]                          \n"
     ]
    }
   ],
   "source": [
    "# construct the spin operators\n",
    "SpinOp = SpinOperators(spin_values)\n",
    "\n",
    "# unpack the operators\n",
    "Sx,Sy,Sz = SpinOp.Sx,SpinOp.Sy,SpinOp.Sz"
   ]
  },
  {
   "cell_type": "code",
   "execution_count": 4,
   "metadata": {},
   "outputs": [
    {
     "data": {
      "text/html": [
       "<div>\n",
       "<style scoped>\n",
       "    .dataframe tbody tr th:only-of-type {\n",
       "        vertical-align: middle;\n",
       "    }\n",
       "\n",
       "    .dataframe tbody tr th {\n",
       "        vertical-align: top;\n",
       "    }\n",
       "\n",
       "    .dataframe thead th {\n",
       "        text-align: right;\n",
       "    }\n",
       "</style>\n",
       "<table border=\"1\" class=\"dataframe\">\n",
       "  <thead>\n",
       "    <tr style=\"text-align: right;\">\n",
       "      <th></th>\n",
       "      <th>0</th>\n",
       "      <th>1</th>\n",
       "      <th>2</th>\n",
       "      <th>3</th>\n",
       "      <th>4</th>\n",
       "      <th>5</th>\n",
       "      <th>6</th>\n",
       "      <th>7</th>\n",
       "    </tr>\n",
       "  </thead>\n",
       "  <tbody>\n",
       "    <tr>\n",
       "      <th>0</th>\n",
       "      <td>1.5</td>\n",
       "      <td>1.5</td>\n",
       "      <td>1.5</td>\n",
       "      <td>1.5</td>\n",
       "      <td>1.5</td>\n",
       "      <td>1.5</td>\n",
       "      <td>1.5</td>\n",
       "      <td>1.5</td>\n",
       "    </tr>\n",
       "    <tr>\n",
       "      <th>1</th>\n",
       "      <td>1.5</td>\n",
       "      <td>1.5</td>\n",
       "      <td>1.5</td>\n",
       "      <td>1.5</td>\n",
       "      <td>1.5</td>\n",
       "      <td>1.5</td>\n",
       "      <td>1.5</td>\n",
       "      <td>0.5</td>\n",
       "    </tr>\n",
       "    <tr>\n",
       "      <th>2</th>\n",
       "      <td>1.5</td>\n",
       "      <td>1.5</td>\n",
       "      <td>1.5</td>\n",
       "      <td>1.5</td>\n",
       "      <td>1.5</td>\n",
       "      <td>1.5</td>\n",
       "      <td>1.5</td>\n",
       "      <td>-0.5</td>\n",
       "    </tr>\n",
       "    <tr>\n",
       "      <th>3</th>\n",
       "      <td>1.5</td>\n",
       "      <td>1.5</td>\n",
       "      <td>1.5</td>\n",
       "      <td>1.5</td>\n",
       "      <td>1.5</td>\n",
       "      <td>1.5</td>\n",
       "      <td>1.5</td>\n",
       "      <td>-1.5</td>\n",
       "    </tr>\n",
       "    <tr>\n",
       "      <th>4</th>\n",
       "      <td>1.5</td>\n",
       "      <td>1.5</td>\n",
       "      <td>1.5</td>\n",
       "      <td>1.5</td>\n",
       "      <td>1.5</td>\n",
       "      <td>1.5</td>\n",
       "      <td>0.5</td>\n",
       "      <td>1.5</td>\n",
       "    </tr>\n",
       "    <tr>\n",
       "      <th>...</th>\n",
       "      <td>...</td>\n",
       "      <td>...</td>\n",
       "      <td>...</td>\n",
       "      <td>...</td>\n",
       "      <td>...</td>\n",
       "      <td>...</td>\n",
       "      <td>...</td>\n",
       "      <td>...</td>\n",
       "    </tr>\n",
       "    <tr>\n",
       "      <th>65531</th>\n",
       "      <td>-1.5</td>\n",
       "      <td>-1.5</td>\n",
       "      <td>-1.5</td>\n",
       "      <td>-1.5</td>\n",
       "      <td>-1.5</td>\n",
       "      <td>-1.5</td>\n",
       "      <td>-0.5</td>\n",
       "      <td>-1.5</td>\n",
       "    </tr>\n",
       "    <tr>\n",
       "      <th>65532</th>\n",
       "      <td>-1.5</td>\n",
       "      <td>-1.5</td>\n",
       "      <td>-1.5</td>\n",
       "      <td>-1.5</td>\n",
       "      <td>-1.5</td>\n",
       "      <td>-1.5</td>\n",
       "      <td>-1.5</td>\n",
       "      <td>1.5</td>\n",
       "    </tr>\n",
       "    <tr>\n",
       "      <th>65533</th>\n",
       "      <td>-1.5</td>\n",
       "      <td>-1.5</td>\n",
       "      <td>-1.5</td>\n",
       "      <td>-1.5</td>\n",
       "      <td>-1.5</td>\n",
       "      <td>-1.5</td>\n",
       "      <td>-1.5</td>\n",
       "      <td>0.5</td>\n",
       "    </tr>\n",
       "    <tr>\n",
       "      <th>65534</th>\n",
       "      <td>-1.5</td>\n",
       "      <td>-1.5</td>\n",
       "      <td>-1.5</td>\n",
       "      <td>-1.5</td>\n",
       "      <td>-1.5</td>\n",
       "      <td>-1.5</td>\n",
       "      <td>-1.5</td>\n",
       "      <td>-0.5</td>\n",
       "    </tr>\n",
       "    <tr>\n",
       "      <th>65535</th>\n",
       "      <td>-1.5</td>\n",
       "      <td>-1.5</td>\n",
       "      <td>-1.5</td>\n",
       "      <td>-1.5</td>\n",
       "      <td>-1.5</td>\n",
       "      <td>-1.5</td>\n",
       "      <td>-1.5</td>\n",
       "      <td>-1.5</td>\n",
       "    </tr>\n",
       "  </tbody>\n",
       "</table>\n",
       "<p>65536 rows × 8 columns</p>\n",
       "</div>"
      ],
      "text/plain": [
       "         0    1    2    3    4    5    6    7\n",
       "0      1.5  1.5  1.5  1.5  1.5  1.5  1.5  1.5\n",
       "1      1.5  1.5  1.5  1.5  1.5  1.5  1.5  0.5\n",
       "2      1.5  1.5  1.5  1.5  1.5  1.5  1.5 -0.5\n",
       "3      1.5  1.5  1.5  1.5  1.5  1.5  1.5 -1.5\n",
       "4      1.5  1.5  1.5  1.5  1.5  1.5  0.5  1.5\n",
       "...    ...  ...  ...  ...  ...  ...  ...  ...\n",
       "65531 -1.5 -1.5 -1.5 -1.5 -1.5 -1.5 -0.5 -1.5\n",
       "65532 -1.5 -1.5 -1.5 -1.5 -1.5 -1.5 -1.5  1.5\n",
       "65533 -1.5 -1.5 -1.5 -1.5 -1.5 -1.5 -1.5  0.5\n",
       "65534 -1.5 -1.5 -1.5 -1.5 -1.5 -1.5 -1.5 -0.5\n",
       "65535 -1.5 -1.5 -1.5 -1.5 -1.5 -1.5 -1.5 -1.5\n",
       "\n",
       "[65536 rows x 8 columns]"
      ]
     },
     "execution_count": 4,
     "metadata": {},
     "output_type": "execute_result"
    }
   ],
   "source": [
    "# let's show the Hilbert space basis:\n",
    "# each row is a basis state\n",
    "# each column if one component in the Sz-basis\n",
    "SpinOp.basis"
   ]
  },
  {
   "cell_type": "markdown",
   "metadata": {},
   "source": [
    "Pay attention that `Sx` (as well as `Sy`, and `Sz`) are `numpy.array` with lenght `Nsites`, and each one of its element is a `Operator` object.\n",
    "\n",
    "Let's inspect one element."
   ]
  },
  {
   "cell_type": "code",
   "execution_count": 5,
   "metadata": {},
   "outputs": [
    {
     "data": {
      "text/plain": [
       "          name: None\n",
       "  memory (csr): 263052 bytes\n",
       " memory (deep): 264069 bytes\n",
       "          type: float64\n",
       "         shape: (65536, 65536)\n",
       "      sparsity: 0.000023\n",
       "         # all: 98304\n",
       "         #  on: 0\n",
       "         # off: 98304\n",
       "    norm (all): 286.216701\n",
       "    norm  (on): 0.000000\n",
       "    norm (off): 286.216701\n",
       "     hermitean: True\n",
       "     symmetric: True\n",
       "       unitary: False\n",
       "     n. blocks: unknown\n",
       "   eigenvalues: unknown\n",
       "   eigenstates: unknown"
      ]
     },
     "execution_count": 5,
     "metadata": {},
     "output_type": "execute_result"
    }
   ],
   "source": [
    "assert isinstance(Sx[0],Operator), \"Sx[0] should be an Operator instance\"\n",
    "Sx[0]"
   ]
  },
  {
   "cell_type": "markdown",
   "metadata": {},
   "source": [
    "## From cartesian to cylindrical frame"
   ]
  },
  {
   "cell_type": "code",
   "execution_count": 6,
   "metadata": {},
   "outputs": [],
   "source": [
    "# EulerAngles = np.zeros((8,3))\n",
    "# EulerAngles[:,2] = 360 - np.linspace(0,360,8,endpoint=False)\n",
    "# EulerAngles = np.pi * EulerAngles / 180\n",
    "# print(\"Euler angles (in radians):\\n\", EulerAngles)\n",
    "\n",
    "# print(\"Delta uler angles (in deg):\\n\", np.diff(EulerAngles,axis=0)*180/np.pi)"
   ]
  },
  {
   "cell_type": "code",
   "execution_count": 7,
   "metadata": {},
   "outputs": [],
   "source": [
    "# St,Sr,Sz= rotate_spins(spins=SpinOp,EulerAngles=EulerAngles)\n",
    "# St[0]"
   ]
  },
  {
   "cell_type": "code",
   "execution_count": 8,
   "metadata": {},
   "outputs": [],
   "source": [
    "# # let's construct a SpinOperator object for the cylindrical frame\n",
    "# # pay attention: this is a hack!\n",
    "# SpinOpCyl = deepcopy(SpinOp)\n",
    "# SpinOpCyl.Sx = St\n",
    "# SpinOpCyl.Sy = Sr\n",
    "# del SpinOpCyl.Sp # it should not be needed\n",
    "# del SpinOpCyl.Sm # it should not be needed"
   ]
  },
  {
   "cell_type": "markdown",
   "metadata": {},
   "source": [
    "## Hamiltonian"
   ]
  },
  {
   "cell_type": "markdown",
   "metadata": {},
   "source": [
    "Let's construct the hamiltonian."
   ]
  },
  {
   "cell_type": "code",
   "execution_count": null,
   "metadata": {},
   "outputs": [
    {
     "data": {
      "text/plain": [
       "          name: None\n",
       "  memory (csr): 263052 bytes\n",
       " memory (deep): 264069 bytes\n",
       "          type: complex128\n",
       "         shape: (65536, 65536)\n",
       "      sparsity: 0.000151\n",
       "         # all: 648304\n",
       "         #  on: 58480\n",
       "         # off: 589824\n",
       "    norm (all): 1534.242194\n",
       "    norm  (on): 1084.305823\n",
       "    norm (off): 1085.440000\n",
       "     hermitean: True\n",
       "     symmetric: True\n",
       "       unitary: False\n",
       "     n. blocks: unknown\n",
       "   eigenvalues: unknown\n",
       "   eigenstates: unknown"
      ]
     },
     "execution_count": 9,
     "metadata": {},
     "output_type": "execute_result"
    }
   ],
   "source": [
    "# cylindricar coordinates\n",
    "\n",
    "# Js = [-0.643,-0.654,-0.913] # V8, LDA+U, eV\n",
    "# Js = [-0.403,-0.403,-0.585] # V8, LDA+U+V, eV\n",
    "# Js = [0.596,0.596,0.843] # Cr8, LDA+U, eV\n",
    "# Js = [0.848,0.848,1.198] # Cr8, LDA+U+V, eV\n",
    "Js = all_Js[name][xc]\n",
    "\n",
    "H = Heisenberg(Sx,Sy,Sz,Js) # Hamiltonian in cartesian coordinates\n",
    "# H = Heisenberg(St,Sr,Sz,Js) # Hamiltonian in cyclindrical coordinates\n",
    "H"
   ]
  },
  {
   "cell_type": "markdown",
   "metadata": {},
   "source": [
    "## Symmetry operators"
   ]
  },
  {
   "cell_type": "markdown",
   "metadata": {},
   "source": [
    "Let's construct the shift operator (or traslation operator) because it will be usefull later on to make the diagonalization of the Hamiltoninan cheaper."
   ]
  },
  {
   "cell_type": "code",
   "execution_count": 10,
   "metadata": {},
   "outputs": [
    {
     "data": {
      "text/plain": [
       "          name: None\n",
       "  memory (csr): 904 bytes\n",
       " memory (deep): 3567 bytes\n",
       "          type: float64\n",
       "         shape: (65536, 65536)\n",
       "      sparsity: 0.000015\n",
       "         # all: 65536\n",
       "         #  on: 4\n",
       "         # off: 65532\n",
       "    norm (all): 256.000000\n",
       "    norm  (on): 2.000000\n",
       "    norm (off): 255.992187\n",
       "     hermitean: False\n",
       "     symmetric: False\n",
       "       unitary: True\n",
       "     n. blocks: 8230\n",
       "   eigenvalues: computed\n",
       "   eigenstates: computed"
      ]
     },
     "execution_count": 10,
     "metadata": {},
     "output_type": "execute_result"
    }
   ],
   "source": [
    "D = Symmetry.load(f\"D.S={S}.N={Nsites}.pickle\") # save the symmetry operator to a file\n",
    "# D:Symmetry = shift(SpinOp)\n",
    "# D:Symmetry = shift(SpinOpCyl) # D is a symmetry operator that shifts the spin operators\n",
    "D"
   ]
  },
  {
   "cell_type": "markdown",
   "metadata": {},
   "source": [
    "Let's diagonalize the shift operator so that we have access to its eigenvectors."
   ]
  },
  {
   "cell_type": "code",
   "execution_count": null,
   "metadata": {},
   "outputs": [],
   "source": [
    "D.diagonalize(method=\"dense\") # 'dense' is much better than 'jacobi'"
   ]
  },
  {
   "cell_type": "code",
   "execution_count": 12,
   "metadata": {},
   "outputs": [
    {
     "data": {
      "text/plain": [
       "          name: None\n",
       "  memory (csr): 1032 bytes\n",
       " memory (deep): 1576407 bytes\n",
       "          type: float64\n",
       "         shape: (65536, 65536)\n",
       "      sparsity: 0.000015\n",
       "         # all: 65536\n",
       "         #  on: 4\n",
       "         # off: 65532\n",
       "    norm (all): 256.000000\n",
       "    norm  (on): 2.000000\n",
       "    norm (off): 255.992187\n",
       "     hermitean: False\n",
       "     symmetric: False\n",
       "       unitary: True\n",
       "     n. blocks: 8230\n",
       "   eigenvalues: computed\n",
       "   eigenstates: computed"
      ]
     },
     "execution_count": 12,
     "metadata": {},
     "output_type": "execute_result"
    }
   ],
   "source": [
    "# let's inspect again the symmetry operator\n",
    "D"
   ]
  },
  {
   "cell_type": "code",
   "execution_count": 13,
   "metadata": {},
   "outputs": [
    {
     "data": {
      "text/plain": [
       "          name: None\n",
       "  memory (csr): 263180 bytes\n",
       " memory (deep): 264235 bytes\n",
       "          type: complex128\n",
       "         shape: (65536, 65536)\n",
       "      sparsity: 0.000122\n",
       "         # all: 523200\n",
       "         #  on: 65520\n",
       "         # off: 457680\n",
       "    norm (all): 0.000000\n",
       "    norm  (on): 0.000000\n",
       "    norm (off): 0.000000\n",
       "     hermitean: True\n",
       "     symmetric: True\n",
       "       unitary: False\n",
       "     n. blocks: unknown\n",
       "   eigenvalues: unknown\n",
       "   eigenstates: unknown"
      ]
     },
     "execution_count": 13,
     "metadata": {},
     "output_type": "execute_result"
    }
   ],
   "source": [
    "test = D.test_eigensolution() # return a matrix that measures the discrepancy between the operator and its eigenvectors\n",
    "assert test.norm() < 1e-10, \"Test eigen solution failed, discrepancy is too high\"\n",
    "\n",
    "# the number of energy levels should be equal to the number of sites\n",
    "l,N = D.energy_levels()\n",
    "# print(len(l))\n",
    "assert len(l) == Nsites, \"wrong number of energy levels\"\n",
    "\n",
    "# the eigenvalues should be the roots of unity\n",
    "ru = np.sort(roots_of_unity(len(spin_values)))\n",
    "l  = np.sort(l)    \n",
    "assert np.allclose(l,ru), \"The eigenvalues should be the roots of the unity.\"\n",
    "\n",
    "\n",
    "test"
   ]
  },
  {
   "cell_type": "markdown",
   "metadata": {},
   "source": [
    "Let' save the shift operator, and its eigensolutions to file."
   ]
  },
  {
   "cell_type": "code",
   "execution_count": 14,
   "metadata": {},
   "outputs": [],
   "source": [
    "D.save(f\"D.S={S}.N={Nsites}.pickle\") # save the symmetry operator to a file"
   ]
  },
  {
   "cell_type": "markdown",
   "metadata": {},
   "source": [
    "## Diagonalizing the Hamiltonian"
   ]
  },
  {
   "cell_type": "code",
   "execution_count": 15,
   "metadata": {},
   "outputs": [],
   "source": [
    "comm = Operator.commutator(H,D);\n",
    "assert comm.norm() < 1e-10, \"Commutator is not zero, the symmetry operator does not commute with the Hamiltonian\""
   ]
  },
  {
   "cell_type": "code",
   "execution_count": null,
   "metadata": {},
   "outputs": [],
   "source": [
    "H.diagonalize_with_symmetry(S=[D],method=\"dense\"); # diagonalize the Hamiltonian"
   ]
  },
  {
   "cell_type": "code",
   "execution_count": 17,
   "metadata": {},
   "outputs": [],
   "source": [
    "test = H.test_eigensolution() # test the eigen solution of the Hamiltonian\n",
    "assert test.norm() < 1e-10, \"Test eigen solution failed, discrepancy is too high\""
   ]
  },
  {
   "cell_type": "code",
   "execution_count": null,
   "metadata": {},
   "outputs": [],
   "source": [
    "H.save(f\"{name}.xc={xc}.pickle\") # save the symmetry operator to a file"
   ]
  },
  {
   "cell_type": "markdown",
   "metadata": {},
   "source": [
    "## Density of states"
   ]
  },
  {
   "cell_type": "code",
   "execution_count": 18,
   "metadata": {},
   "outputs": [
    {
     "name": "stdout",
     "output_type": "stream",
     "text": [
      "Found 23025 energy levels\n"
     ]
    }
   ],
   "source": [
    "l, N = H.energy_levels() # return the energy levels of the Hamiltonian\n",
    "assert N.sum() == H.shape[0], \"The sum of the energy level weights should be equal to the number of sites\"\n",
    "print(f\"Found {len(l)} energy levels\")"
   ]
  },
  {
   "cell_type": "code",
   "execution_count": null,
   "metadata": {},
   "outputs": [
    {
     "data": {
      "image/png": "[encoded data removed]",
      "text/plain": [
       "<Figure size 1800x600 with 1 Axes>"
      ]
     },
     "metadata": {},
     "output_type": "display_data"
    }
   ],
   "source": [
    "import numpy as np\n",
    "import matplotlib.pyplot as plt\n",
    "\n",
    "# Example: assume l and N are already defined\n",
    "# l: array of energy levels\n",
    "# N: degeneracies (or set to 1 if not available)\n",
    "\n",
    "# If N not given, use uniform weights:\n",
    "# N = np.ones_like(l)\n",
    "\n",
    "# Parameters\n",
    "sigma = 0.1  # Width of Gaussian\n",
    "E_min, E_max = l.min() - 2*sigma, l.max() + 2*sigma\n",
    "E_vals = np.linspace(E_min, E_max, 1000)\n",
    "\n",
    "# Initialize DOS array\n",
    "dos = np.zeros_like(E_vals)\n",
    "\n",
    "# Manually compute Gaussian for each energy level\n",
    "prefactor = 1 / (sigma * np.sqrt(2 * np.pi))\n",
    "for energy, weight in zip(l, N):\n",
    "    gaussian = weight * prefactor * np.exp(-0.5 * ((E_vals - energy) / sigma)**2)\n",
    "    dos += gaussian\n",
    "\n",
    "# Plotting\n",
    "plt.plot(E_vals, dos)\n",
    "plt.xlabel('energy [eV]')\n",
    "plt.ylabel('DOS')\n",
    "plt.title(r'Density of States (Gaussian broadened with $\\sigma$={:.2f} eV)'.format(sigma))\n",
    "plt.grid(True)\n",
    "# plt.xlim(-20,20)\n",
    "# plt.legend()\n",
    "plt.show()\n",
    "plt.savefig(f\"{name}.xc={xc}.pdf\", bbox_inches='tight')\n"
   ]
  },
  {
   "cell_type": "code",
   "execution_count": null,
   "metadata": {},
   "outputs": [],
   "source": []
  }
 ],
 "metadata": {
  "kernelspec": {
   "display_name": "qs",
   "language": "python",
   "name": "python3"
  },
  "language_info": {
   "codemirror_mode": {
    "name": "ipython",
    "version": 3
   },
   "file_extension": ".py",
   "mimetype": "text/x-python",
   "name": "python",
   "nbconvert_exporter": "python",
   "pygments_lexer": "ipython3",
   "version": "3.9.0"
  }
 },
 "nbformat": 4,
 "nbformat_minor": 2
}
