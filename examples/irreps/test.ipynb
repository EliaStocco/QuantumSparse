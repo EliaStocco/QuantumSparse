{
 "cells": [
  {
   "cell_type": "code",
   "execution_count": 1,
   "metadata": {},
   "outputs": [],
   "source": [
    "from quantumsparse.spin import SpinOperators\n",
    "from quantumsparse.operator import Symmetry, Operator\n",
    "from quantumsparse.spin.shift import shift, shift_foundamental\n",
    "from quantumsparse.spin import Heisenberg\n",
    "from quantumsparse.spin.functions import rotate_spins\n",
    "import numpy as np\n",
    "from copy import deepcopy\n",
    "import matplotlib.pyplot as plt\n",
    "\n",
    "plt.style.use('../../notebook.mplstyle')                # use matplotlib style notebook.mplstyle"
   ]
  },
  {
   "cell_type": "code",
   "execution_count": 2,
   "metadata": {},
   "outputs": [],
   "source": [
    "S     = 1./2. # spin value\n",
    "Nsites = 4 # number of sites\n",
    "spin_values = np.full(Nsites,S)"
   ]
  },
  {
   "cell_type": "code",
   "execution_count": null,
   "metadata": {},
   "outputs": [],
   "source": [
    "T = shift_foundamental(Nsites)\n",
    "T"
   ]
  },
  {
   "cell_type": "code",
   "execution_count": 5,
   "metadata": {},
   "outputs": [],
   "source": [
    "Tnew = T.copy()"
   ]
  },
  {
   "cell_type": "code",
   "execution_count": 8,
   "metadata": {},
   "outputs": [
    {
     "name": "stdout",
     "output_type": "stream",
     "text": [
      "\tn_components: 1\n",
      "\teigensolution test: 1.810512918042978e-15\n"
     ]
    },
    {
     "ename": "AttributeError",
     "evalue": "'numpy.ndarray' object has no attribute 'n_blocks'",
     "output_type": "error",
     "traceback": [
      "\u001b[0;31m---------------------------------------------------------------------------\u001b[0m",
      "\u001b[0;31mAttributeError\u001b[0m                            Traceback (most recent call last)",
      "Cell \u001b[0;32mIn[8], line 1\u001b[0m\n\u001b[0;32m----> 1\u001b[0m \u001b[43mTnew\u001b[49m\u001b[38;5;241;43m.\u001b[39;49m\u001b[43mdiagonalize\u001b[49m\u001b[43m(\u001b[49m\u001b[43m)\u001b[49m\n",
      "File \u001b[0;32m~/codes/QuantumSparse/quantumsparse/operator/_operator.py:189\u001b[0m, in \u001b[0;36mOperator.diagonalize\u001b[0;34m(self, restart, tol, max_iter, test, **argv)\u001b[0m\n\u001b[1;32m    186\u001b[0m     eigtest \u001b[38;5;241m=\u001b[39m \u001b[38;5;28mself\u001b[39m\u001b[38;5;241m.\u001b[39mtest_eigensolution()\n\u001b[1;32m    187\u001b[0m     \u001b[38;5;28mprint\u001b[39m(\u001b[38;5;124m\"\u001b[39m\u001b[38;5;130;01m\\t\u001b[39;00m\u001b[38;5;124meigensolution test:\u001b[39m\u001b[38;5;124m\"\u001b[39m,eigtest\u001b[38;5;241m.\u001b[39mnorm())\n\u001b[0;32m--> 189\u001b[0m \u001b[38;5;28;43mself\u001b[39;49m\u001b[38;5;241;43m.\u001b[39;49m\u001b[43meigenstates\u001b[49m\u001b[38;5;241;43m.\u001b[39;49m\u001b[43mn_blocks\u001b[49m \u001b[38;5;241m=\u001b[39m \u001b[38;5;28mself\u001b[39m\u001b[38;5;241m.\u001b[39mn_blocks\n\u001b[1;32m    190\u001b[0m \u001b[38;5;28mself\u001b[39m\u001b[38;5;241m.\u001b[39meigenstates\u001b[38;5;241m.\u001b[39mblocks \u001b[38;5;241m=\u001b[39m \u001b[38;5;28mself\u001b[39m\u001b[38;5;241m.\u001b[39mblocks\n\u001b[1;32m    192\u001b[0m \u001b[38;5;28;01mreturn\u001b[39;00m \u001b[38;5;28mself\u001b[39m\u001b[38;5;241m.\u001b[39meigenvalues,\u001b[38;5;28mself\u001b[39m\u001b[38;5;241m.\u001b[39meigenstates\n",
      "\u001b[0;31mAttributeError\u001b[0m: 'numpy.ndarray' object has no attribute 'n_blocks'"
     ]
    }
   ],
   "source": [
    "Tnew.diagonalize()"
   ]
  },
  {
   "cell_type": "code",
   "execution_count": 73,
   "metadata": {},
   "outputs": [],
   "source": [
    "r = np.linspace(0,1,Nsites,endpoint=False)\n",
    "k = np.linspace(0,1,Nsites,endpoint=False)\n",
    "vtest = np.exp(1.j*2*np.pi*np.outer(r,k)*Nsites)"
   ]
  },
  {
   "cell_type": "code",
   "execution_count": 74,
   "metadata": {},
   "outputs": [
    {
     "data": {
      "text/plain": [
       "array([[ 1.0000000e+00+0.00000000e+00j,  6.1232340e-17+1.00000000e+00j,\n",
       "        -1.0000000e+00+1.22464680e-16j, -1.8369702e-16-1.00000000e+00j],\n",
       "       [ 1.0000000e+00+0.00000000e+00j, -1.0000000e+00+1.22464680e-16j,\n",
       "         1.0000000e+00-2.44929360e-16j, -1.0000000e+00+3.67394040e-16j],\n",
       "       [ 1.0000000e+00+0.00000000e+00j, -1.8369702e-16-1.00000000e+00j,\n",
       "        -1.0000000e+00+3.67394040e-16j,  5.5109106e-16+1.00000000e+00j],\n",
       "       [ 1.0000000e+00+0.00000000e+00j,  1.0000000e+00-2.44929360e-16j,\n",
       "         1.0000000e+00-4.89858720e-16j,  1.0000000e+00-7.34788079e-16j]])"
      ]
     },
     "execution_count": 74,
     "metadata": {},
     "output_type": "execute_result"
    }
   ],
   "source": [
    "vtest @ np.diag(roots_of_unity(Nsites))"
   ]
  },
  {
   "cell_type": "code",
   "execution_count": 75,
   "metadata": {},
   "outputs": [
    {
     "data": {
      "text/plain": [
       "array([[0.00000000e+00, 0.00000000e+00, 0.00000000e+00, 0.00000000e+00],\n",
       "       [0.00000000e+00, 0.00000000e+00, 0.00000000e+00, 0.00000000e+00],\n",
       "       [0.00000000e+00, 0.00000000e+00, 0.00000000e+00, 0.00000000e+00],\n",
       "       [0.00000000e+00, 2.44929360e-16, 4.89858720e-16, 7.34788079e-16]])"
      ]
     },
     "execution_count": 75,
     "metadata": {},
     "output_type": "execute_result"
    }
   ],
   "source": [
    "test = T @ vtest - vtest @ np.diag(roots_of_unity(Nsites))\n",
    "test.imag"
   ]
  },
  {
   "cell_type": "code",
   "execution_count": 76,
   "metadata": {},
   "outputs": [
    {
     "data": {
      "text/plain": [
       "array([[ 0.,  0.,  0.,  0.],\n",
       "       [ 0.,  1.,  0., -1.],\n",
       "       [ 0.,  0., -0.,  0.],\n",
       "       [ 0., -1.,  0.,  1.]])"
      ]
     },
     "execution_count": 76,
     "metadata": {},
     "output_type": "execute_result"
    }
   ],
   "source": [
    "np.round(vtest.imag,4)"
   ]
  },
  {
   "cell_type": "code",
   "execution_count": null,
   "metadata": {},
   "outputs": [],
   "source": []
  }
 ],
 "metadata": {
  "kernelspec": {
   "display_name": "qs",
   "language": "python",
   "name": "python3"
  },
  "language_info": {
   "codemirror_mode": {
    "name": "ipython",
    "version": 3
   },
   "file_extension": ".py",
   "mimetype": "text/x-python",
   "name": "python",
   "nbconvert_exporter": "python",
   "pygments_lexer": "ipython3",
   "version": "3.9.19"
  }
 },
 "nbformat": 4,
 "nbformat_minor": 2
}
